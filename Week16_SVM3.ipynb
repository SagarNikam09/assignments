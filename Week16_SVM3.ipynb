{
 "cells": [
  {
   "cell_type": "markdown",
   "id": "c9117829-e871-44a9-ba87-0696e3f49104",
   "metadata": {},
   "source": [
    "### Q1. In order to predict house price based on several characteristics, such as location, square footage, number of bedrooms, etc., you are developing an SVM regression model. Which regression metric in this situation would be the best to employ?\r\n",
    "\r\n",
    "**Best Metric**:\r\n",
    "- **Mean Absolute Error (MAE)** would be the best metric in this situation. \r\n",
    "- **Reason**: MAE provides a straightforward interpretation by measuring the average magnitude of errors in the predicted house prices without considering their direction. It’s particularly useful when you need an easily understandable metric that reflects the actual dollar difference between predicted and actual house prices.\r\n"
   ]
  },
  {
   "cell_type": "markdown",
   "id": "90cab5c8-b47e-4307-8e81-593e08420f4e",
   "metadata": {},
   "source": [
    "### Q2. You have built an SVM regression model and are trying to decide between using MSE or R-squared as your evaluation metric. Which metric would be more appropriate if your goal is to predict the actual price of a house as accurately as possible?\r\n",
    "\r\n",
    "**More Appropriate Metric**:\r\n",
    "- **Mean Squared Error (MSE)** would be more appropriate if your goal is to predict the actual price of a house as accurately as possible.\r\n",
    "- **Reason**: MSE gives more weight to larger errors, making it sensitive to large deviations from the actual price. This helps in minimizing significant prediction errors, which is crucial when accurate price prediction is the primary goal.\r\n"
   ]
  },
  {
   "cell_type": "markdown",
   "id": "a71885a0-23d2-438c-8e5c-a10a01cc013e",
   "metadata": {},
   "source": [
    "### Q3. You have a dataset with a significant number of outliers and are trying to select an appropriate regression metric to use with your SVM model. Which metric would be the most appropriate in this scenario?\r\n",
    "\r\n",
    "**Most Appropriate Metric**:\r\n",
    "- **Mean Absolute Error (MAE)** would be the most appropriate metric in this scenario.\r\n",
    "- **Reason**: MAE is less sensitive to outliers compared to MSE, as it does not square the errors. This makes it a better choice when your dataset contains significant outliers, providing a more robust measure of average error.\r\n"
   ]
  },
  {
   "cell_type": "markdown",
   "id": "0c7f4ccc-9a87-4889-a918-d2c89ea69c1d",
   "metadata": {},
   "source": [
    "### Q4. You have built an SVM regression model using a polynomial kernel and are trying to select the best metric to evaluate its performance. You have calculated both MSE and RMSE and found that both values are very close. Which metric should you choose to use in this case?\r\n",
    "\r\n",
    "**Best Metric**:\r\n",
    "- **Root Mean Squared Error (RMSE)** would be the preferred choice.\r\n",
    "- **Reason**: RMSE is in the same units as the target variable (in this case, house prices), making it easier to interpret the magnitude of prediction errors. If the values of MSE and RMSE are close, RMSE offers a more intuitive understanding of the prediction accuracy.\r\n"
   ]
  },
  {
   "cell_type": "markdown",
   "id": "b0139ae9-b499-4178-8395-249d983d6f89",
   "metadata": {},
   "source": [
    "### Q5. You are comparing the performance of different SVM regression models using different kernels (linear, polynomial, and RBF) and are trying to select the best evaluation metric. Which metric would be most appropriate if your goal is to measure how well the model explains the variance in the target variable?\r\n",
    "\r\n",
    "**Most Appropriate Metric**:\r\n",
    "- **R-squared (R²)** would be the most appropriate metric.\r\n",
    "- **Reason**: R-squared measures the proportion of variance in the target variable that is explained by the model. It provides a clear indication of how well the model captures the underlying trends in the data, making it ideal for comparing different models' ability to explain variance.\r\n"
   ]
  },
  {
   "cell_type": "code",
   "execution_count": null,
   "id": "9a57fbb4-90f5-420a-8364-a342ba0e9b00",
   "metadata": {},
   "outputs": [],
   "source": []
  }
 ],
 "metadata": {
  "kernelspec": {
   "display_name": "Python 3 (ipykernel)",
   "language": "python",
   "name": "python3"
  },
  "language_info": {
   "codemirror_mode": {
    "name": "ipython",
    "version": 3
   },
   "file_extension": ".py",
   "mimetype": "text/x-python",
   "name": "python",
   "nbconvert_exporter": "python",
   "pygments_lexer": "ipython3",
   "version": "3.11.7"
  }
 },
 "nbformat": 4,
 "nbformat_minor": 5
}
