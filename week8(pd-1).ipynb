{
 "cells": [
  {
   "cell_type": "code",
   "execution_count": 1,
   "id": "f4756187",
   "metadata": {},
   "outputs": [],
   "source": [
    "import pandas as pd"
   ]
  },
  {
   "cell_type": "code",
   "execution_count": 4,
   "id": "38104485",
   "metadata": {},
   "outputs": [
    {
     "name": "stdout",
     "output_type": "stream",
     "text": [
      "0     4\n",
      "1     8\n",
      "2    15\n",
      "3    16\n",
      "4    23\n",
      "5    42\n",
      "dtype: int64\n"
     ]
    }
   ],
   "source": [
    "#Q1]\n",
    "df = [4, 8, 15, 16, 23, 42]\n",
    "pr = pd.Series(df)\n",
    "print(pr)"
   ]
  },
  {
   "cell_type": "code",
   "execution_count": 9,
   "id": "5ecba4e7",
   "metadata": {},
   "outputs": [
    {
     "name": "stdout",
     "output_type": "stream",
     "text": [
      "0       [1, 2]\n",
      "1       [2, 3]\n",
      "2       [3, 4]\n",
      "3       [4, 5]\n",
      "4       [5, 6]\n",
      "5       [6, 7]\n",
      "6    [7, 8, 9]\n",
      "7    [4, 6, 3]\n",
      "8    [9, 8, 7]\n",
      "9    [5, 4, 3]\n",
      "dtype: object\n"
     ]
    }
   ],
   "source": [
    "#Q2]\n",
    "df1= [[1,2],[2,3],[3,4],[4,5],[5,6],[6,7],[7,8,9],[4,6,3],[9,8,7],[5,4,3]]\n",
    "pr1 = pd.Series(df1)\n",
    "print(pr1)"
   ]
  },
  {
   "cell_type": "code",
   "execution_count": 12,
   "id": "f5be4930",
   "metadata": {},
   "outputs": [
    {
     "name": "stdout",
     "output_type": "stream",
     "text": [
      "     Name  Age  Gender\n",
      "0   Alice   25  Female\n",
      "1     Bob   30    Male\n",
      "2  Claire   27  Female\n"
     ]
    }
   ],
   "source": [
    "#Q3]\n",
    "df2 = [['Alice',25,'Female'],['Bob',30,'Male'],['Claire',27,'Female']]\n",
    "pr2 = pd.DataFrame(df2,columns=['Name','Age','Gender'])\n",
    "print(pr2)"
   ]
  },
  {
   "cell_type": "markdown",
   "id": "5ebf0aee",
   "metadata": {},
   "source": [
    "#Q4]\n",
    "\n",
    "In pandas, a DataFrame is a two-dimensional tabular data structure with labeled axes (rows and columns). It is a powerful tool for storing and manipulating data.\n",
    "\n",
    "A pandas.Series is a one-dimensional array-like object containing data of any type. It is similar to a NumPy array, but it has additional features that make it more powerful for data analysis.\n",
    "\n",
    "The main difference between a DataFrame and a pandas.Series is that a DataFrame has two dimensions, while a pandas.Series has one dimension. This means that a DataFrame can store data in a tabular format, while a pandas.Series can only store data in a single column.\n",
    "\n",
    "Q1 is example of Series and Q3 is example of DataFrame"
   ]
  },
  {
   "cell_type": "markdown",
   "id": "c68a5e01",
   "metadata": {},
   "source": [
    "#Q5]\n",
    "* df.head(): This function returns the first few rows of the DataFrame. This can be useful for getting a quick overview of the data.\n",
    "* df.tail(): This function returns the last few rows of the DataFrame. This can be useful for getting a quick overview of the data at the end of the DataFrame.\n",
    "* df.describe(): This function returns a summary of the statistical data for each column in the DataFrame. This can be useful for getting a quick overview of the distribution of the data.\n",
    "* df.sort_values(): This function sorts the DataFrame by the values in a particular column. This can be useful for rearranging the data in a more meaningful way."
   ]
  },
  {
   "cell_type": "markdown",
   "id": "ca0b3933",
   "metadata": {},
   "source": [
    "#Q6]\n",
    "\n",
    "Both Series and DataFrame are mutable in nature. Panel is not mutable.\n",
    "\n",
    "A Series is a one-dimensional array-like object containing data of any type. It is similar to a NumPy array, but it has additional features that make it more powerful for data analysis.\n",
    "\n",
    "A DataFrame is a two-dimensional tabular data structure with labeled axes (rows and columns). It is similar to a spreadsheet or a database table.\n",
    "\n",
    "A Panel is a three-dimensional data structure with labeled axes (rows, columns, and levels). It is similar to a cube or a hypertable.\n",
    "\n",
    "Both Series and DataFrame are mutable, which means that the data in them can be changed. This makes them more flexible than NumPy arrays, which are immutable.\n",
    "\n",
    "Panel is not mutable, which means that the data in it cannot be changed. This makes it less flexible than Series and DataFrames."
   ]
  },
  {
   "cell_type": "code",
   "execution_count": 2,
   "id": "7bf16349",
   "metadata": {},
   "outputs": [
    {
     "name": "stdout",
     "output_type": "stream",
     "text": [
      "   0  1\n",
      "0  1  a\n",
      "1  2  b\n",
      "2  3  c\n",
      "3  4  d\n",
      "4  5  e\n"
     ]
    }
   ],
   "source": [
    "#Q7]\n",
    "'''You can also use the concat() function to create a DataFrame from multiple Series. \n",
    "The concat() function takes a list of Series as its argument \n",
    "and returns a new DataFrame that contains the data from all of the Series.'''\n",
    "\n",
    "import pandas as pd\n",
    "\n",
    "series1 = pd.Series([1, 2, 3, 4, 5])\n",
    "series2 = pd.Series([\"a\", \"b\", \"c\", \"d\", \"e\"])\n",
    "\n",
    "dataframe = pd.concat([series1, series2], axis=1)\n",
    "\n",
    "print(dataframe)\n"
   ]
  },
  {
   "cell_type": "code",
   "execution_count": null,
   "id": "640bda2d",
   "metadata": {},
   "outputs": [],
   "source": []
  }
 ],
 "metadata": {
  "kernelspec": {
   "display_name": "Python 3 (ipykernel)",
   "language": "python",
   "name": "python3"
  },
  "language_info": {
   "codemirror_mode": {
    "name": "ipython",
    "version": 3
   },
   "file_extension": ".py",
   "mimetype": "text/x-python",
   "name": "python",
   "nbconvert_exporter": "python",
   "pygments_lexer": "ipython3",
   "version": "3.9.12"
  }
 },
 "nbformat": 4,
 "nbformat_minor": 5
}
