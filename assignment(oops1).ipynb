{
 "cells": [
  {
   "cell_type": "markdown",
   "id": "f3230de5",
   "metadata": {},
   "source": [
    "#Q1]"
   ]
  },
  {
   "cell_type": "code",
   "execution_count": 13,
   "id": "65fc3f7d",
   "metadata": {},
   "outputs": [],
   "source": [
    "#Q1]\n",
    "\n",
    "class vehicle :\n",
    "    def __init__(self,name_of_vehicle,max_speed,average_of_vehicle):\n",
    "        self.name_of_vehicle = name_of_vehicle\n",
    "        self.max_speed = max_speed\n",
    "        self.average_of_vehicle = average_of_vehicle\n",
    "    \n",
    "    "
   ]
  },
  {
   "cell_type": "markdown",
   "id": "769434b4",
   "metadata": {},
   "source": [
    "#Q2]"
   ]
  },
  {
   "cell_type": "code",
   "execution_count": 17,
   "id": "f911170c",
   "metadata": {},
   "outputs": [],
   "source": [
    "#Q2]\n",
    "\n",
    "class car(vehicle):\n",
    "    def seating_capacity(self,capacity):\n",
    "        self.capacity = capacity\n",
    "        print(f\"{self.name_of_vehicle} and {self.capacity}\")\n"
   ]
  },
  {
   "cell_type": "code",
   "execution_count": 18,
   "id": "17e9c6b5",
   "metadata": {},
   "outputs": [],
   "source": [
    "obj_car = car(\"Audi\",250,30)"
   ]
  },
  {
   "cell_type": "code",
   "execution_count": 19,
   "id": "354d94d5",
   "metadata": {},
   "outputs": [
    {
     "name": "stdout",
     "output_type": "stream",
     "text": [
      "Audi and 4\n"
     ]
    }
   ],
   "source": [
    "obj_car.seating_capacity(4)"
   ]
  },
  {
   "cell_type": "markdown",
   "id": "a73d5f2a",
   "metadata": {},
   "source": [
    "#Q3]\n",
    "Multiple inheritance is a feature in object-oriented programming (OOP) that allows a class to inherit from more than one base class. This means that the derived class will inherit the attributes and methods of all of its base classes."
   ]
  },
  {
   "cell_type": "code",
   "execution_count": 22,
   "id": "17a58d72",
   "metadata": {},
   "outputs": [],
   "source": [
    "class student():\n",
    "    def stud(self):\n",
    "        print(\"hello students\")"
   ]
  },
  {
   "cell_type": "code",
   "execution_count": 24,
   "id": "e45b2863",
   "metadata": {},
   "outputs": [],
   "source": [
    "class ds(student) :\n",
    "    def syds(self):\n",
    "        print(\"HEll0 SY_DS\")"
   ]
  },
  {
   "cell_type": "code",
   "execution_count": 25,
   "id": "16be1433",
   "metadata": {},
   "outputs": [],
   "source": [
    "class cse (ds):\n",
    "    def SY(self):\n",
    "        print(\"hello second year\")"
   ]
  },
  {
   "cell_type": "code",
   "execution_count": 26,
   "id": "c939e129",
   "metadata": {},
   "outputs": [],
   "source": [
    "obj_cse = cse()"
   ]
  },
  {
   "cell_type": "code",
   "execution_count": 27,
   "id": "7d538eb9",
   "metadata": {},
   "outputs": [
    {
     "name": "stdout",
     "output_type": "stream",
     "text": [
      "hello students\n"
     ]
    }
   ],
   "source": [
    "obj_cse.stud()"
   ]
  },
  {
   "cell_type": "code",
   "execution_count": 28,
   "id": "243b7a2a",
   "metadata": {},
   "outputs": [
    {
     "name": "stdout",
     "output_type": "stream",
     "text": [
      "HEll0 SY_DS\n"
     ]
    }
   ],
   "source": [
    "obj_cse.syds()"
   ]
  },
  {
   "cell_type": "markdown",
   "id": "465a41c6",
   "metadata": {},
   "source": [
    "#Q4]\n",
    " Getters and setters are methods in Python that are used to access and modify the value of an attribute in a class. Getters are used to get the value of an attribute, while setters are used to set the value of an attribute."
   ]
  },
  {
   "cell_type": "code",
   "execution_count": 29,
   "id": "582f4435",
   "metadata": {},
   "outputs": [],
   "source": [
    "class Person:\n",
    "    def __init__(self, name):\n",
    "        self._name = name\n",
    "\n",
    "    @property\n",
    "    def name(self):\n",
    "        return self._name\n",
    "\n",
    "    @name.setter\n",
    "    def name(self, new_name):\n",
    "        self._name = new_name"
   ]
  },
  {
   "cell_type": "code",
   "execution_count": 32,
   "id": "b65da535",
   "metadata": {},
   "outputs": [],
   "source": [
    "Person = Person(\"sagar\")"
   ]
  },
  {
   "cell_type": "code",
   "execution_count": 34,
   "id": "ea631c21",
   "metadata": {},
   "outputs": [
    {
     "data": {
      "text/plain": [
       "'sagar'"
      ]
     },
     "execution_count": 34,
     "metadata": {},
     "output_type": "execute_result"
    }
   ],
   "source": [
    "Person.name"
   ]
  },
  {
   "cell_type": "code",
   "execution_count": 35,
   "id": "012762de",
   "metadata": {},
   "outputs": [],
   "source": [
    "Person.name = \"Sagar Nikam\""
   ]
  },
  {
   "cell_type": "code",
   "execution_count": 36,
   "id": "d57626ac",
   "metadata": {},
   "outputs": [
    {
     "data": {
      "text/plain": [
       "'Sagar Nikam'"
      ]
     },
     "execution_count": 36,
     "metadata": {},
     "output_type": "execute_result"
    }
   ],
   "source": [
    "Person.name"
   ]
  },
  {
   "cell_type": "markdown",
   "id": "f6b602e8",
   "metadata": {},
   "source": [
    "#Q5]\n",
    "Method overriding is a feature in object-oriented programming (OOP) that allows a subclass to provide a different implementation of a method that is already defined in its superclass. This means that the subclass can change the behavior of the method without affecting the behavior of the superclass.\n"
   ]
  },
  {
   "cell_type": "code",
   "execution_count": 37,
   "id": "e4ec0c39",
   "metadata": {},
   "outputs": [],
   "source": [
    "class Animal:\n",
    "    def speak(self):\n",
    "        print(\"Animals\")\n",
    "\n",
    "class Dog(Animal):\n",
    "    def speak(self):\n",
    "        print(\"DOG\")\n",
    "\n",
    "class Cat(Animal):\n",
    "    def speak(self):\n",
    "        print(\"CAT\")"
   ]
  },
  {
   "cell_type": "code",
   "execution_count": 38,
   "id": "5348259b",
   "metadata": {},
   "outputs": [],
   "source": [
    "cat = Cat()"
   ]
  },
  {
   "cell_type": "code",
   "execution_count": 39,
   "id": "05082d85",
   "metadata": {},
   "outputs": [
    {
     "name": "stdout",
     "output_type": "stream",
     "text": [
      "CAT\n"
     ]
    }
   ],
   "source": [
    "cat.speak()"
   ]
  },
  {
   "cell_type": "code",
   "execution_count": null,
   "id": "99608cf9",
   "metadata": {},
   "outputs": [],
   "source": []
  }
 ],
 "metadata": {
  "kernelspec": {
   "display_name": "Python 3 (ipykernel)",
   "language": "python",
   "name": "python3"
  },
  "language_info": {
   "codemirror_mode": {
    "name": "ipython",
    "version": 3
   },
   "file_extension": ".py",
   "mimetype": "text/x-python",
   "name": "python",
   "nbconvert_exporter": "python",
   "pygments_lexer": "ipython3",
   "version": "3.9.12"
  }
 },
 "nbformat": 4,
 "nbformat_minor": 5
}
