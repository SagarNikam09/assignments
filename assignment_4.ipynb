{
 "cells": [
  {
   "cell_type": "markdown",
   "id": "9d02bf4a",
   "metadata": {},
   "source": [
    "#Q1]"
   ]
  },
  {
   "cell_type": "code",
   "execution_count": 10,
   "id": "bca60bd7",
   "metadata": {},
   "outputs": [
    {
     "name": "stdout",
     "output_type": "stream",
     "text": [
      "[('Virat Kohli', 24936), ('Jack Kallis', 25534), ('Ricky Ponting', 27483), ('Sachin Tendulkar', 34357)]\n"
     ]
    }
   ],
   "source": [
    "list = [('Sachin Tendulkar',34357),('Ricky Ponting',27483),('Jack Kallis',25534),('Virat Kohli',24936)]\n",
    "s = sorted(list, key = lambda x : x[1])\n",
    "print(s)"
   ]
  },
  {
   "cell_type": "markdown",
   "id": "80a345bb",
   "metadata": {},
   "source": [
    "#Q2]"
   ]
  },
  {
   "cell_type": "code",
   "execution_count": 1,
   "id": "03b28ba7",
   "metadata": {},
   "outputs": [
    {
     "data": {
      "text/plain": [
       "[1, 4, 9, 16, 25, 36, 49, 64, 81, 100]"
      ]
     },
     "execution_count": 1,
     "metadata": {},
     "output_type": "execute_result"
    }
   ],
   "source": [
    "l= [1,2,3,4,5,6,7,8,9,10]\n",
    "list(map(lambda x : x**2,l))"
   ]
  },
  {
   "cell_type": "markdown",
   "id": "e2328a53",
   "metadata": {},
   "source": [
    "#Q3]"
   ]
  },
  {
   "cell_type": "code",
   "execution_count": 5,
   "id": "ea0aa699",
   "metadata": {},
   "outputs": [
    {
     "data": {
      "text/plain": [
       "('1', '2', '3', '4', '5', '6', '7', '8', '9', '10')"
      ]
     },
     "execution_count": 5,
     "metadata": {},
     "output_type": "execute_result"
    }
   ],
   "source": [
    "l= [1,2,3,4,5,6,7,8,9,10]\n",
    "tuple(map(lambda x : str(x),l))"
   ]
  },
  {
   "cell_type": "markdown",
   "id": "19657996",
   "metadata": {},
   "source": [
    "#Q4]"
   ]
  },
  {
   "cell_type": "code",
   "execution_count": 8,
   "id": "c30ee01c",
   "metadata": {},
   "outputs": [
    {
     "data": {
      "text/plain": [
       "15511210043330985984000000"
      ]
     },
     "execution_count": 8,
     "metadata": {},
     "output_type": "execute_result"
    }
   ],
   "source": [
    "list = range(1,26)\n",
    "from functools import reduce\n",
    "reduce(lambda x,y : x*y,list)"
   ]
  },
  {
   "cell_type": "markdown",
   "id": "1040e670",
   "metadata": {},
   "source": [
    "#Q5]"
   ]
  },
  {
   "cell_type": "code",
   "execution_count": 1,
   "id": "f6982484",
   "metadata": {},
   "outputs": [
    {
     "data": {
      "text/plain": [
       "[6, 60, 90, 120]"
      ]
     },
     "execution_count": 1,
     "metadata": {},
     "output_type": "execute_result"
    }
   ],
   "source": [
    "l= [2,3,6,9,27,60,90,120,55,46]\n",
    "list(filter(lambda x : x if x%2==0 and x%3==0 else 0,l))"
   ]
  },
  {
   "cell_type": "markdown",
   "id": "ea8f82f2",
   "metadata": {},
   "source": [
    "#Q6]"
   ]
  },
  {
   "cell_type": "code",
   "execution_count": 1,
   "id": "9d8bd187",
   "metadata": {},
   "outputs": [
    {
     "data": {
      "text/plain": [
       "['php', 'aba', 'radar', 'level']"
      ]
     },
     "execution_count": 1,
     "metadata": {},
     "output_type": "execute_result"
    }
   ],
   "source": [
    "l1 = ['python','php','aba','radar','level']\n",
    "\n",
    "list(filter(lambda x :x if x == x[::-1] else 0,l1))"
   ]
  },
  {
   "cell_type": "code",
   "execution_count": null,
   "id": "5fe3378c",
   "metadata": {},
   "outputs": [],
   "source": []
  }
 ],
 "metadata": {
  "kernelspec": {
   "display_name": "Python 3 (ipykernel)",
   "language": "python",
   "name": "python3"
  },
  "language_info": {
   "codemirror_mode": {
    "name": "ipython",
    "version": 3
   },
   "file_extension": ".py",
   "mimetype": "text/x-python",
   "name": "python",
   "nbconvert_exporter": "python",
   "pygments_lexer": "ipython3",
   "version": "3.9.12"
  }
 },
 "nbformat": 4,
 "nbformat_minor": 5
}
