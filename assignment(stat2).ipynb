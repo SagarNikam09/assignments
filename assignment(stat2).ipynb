{
 "cells": [
  {
   "cell_type": "markdown",
   "metadata": {},
   "source": [
    "#Q1]\n",
    "\n",
    "The three measures of central tendency are the mean, median, and mode. They are used to describe the central location of a data set.\n",
    "\n",
    "Mean: The mean is the average of all the values in a data set. It is calculated by adding up all the values in the data set and then dividing by the number of values in the data set.\n",
    "\n",
    "Median: The median is the middle value in a data set when the values are arranged in increasing or decreasing order. If there is an even number of values in the data set, then the median is the average of the two middle values.\n",
    "\n",
    "Mode: The mode is the most frequent value in a data set. It is the value that appears the most often in the data set."
   ]
  },
  {
   "cell_type": "markdown",
   "metadata": {},
   "source": [
    "#Q2]\n",
    "\n",
    "Mean: The mean is the average of all the values in a data set. It is calculated by adding up all the values in the data set and then dividing by the number of values in the data set. For example, if you have a data set of 5 numbers: 1, 2, 3, 4, and 5, the mean would be 3.\n",
    "\n",
    "Median: The median is the middle value in a data set when the values are arranged in increasing or decreasing order. If there is an even number of values in a data set, then the median is the average of the two middle values. For example, if you have a data set of 6 numbers: 1, 2, 3, 4, 5, and 6, the median would be 3.5.\n",
    "\n",
    "Mode: The mode is the most frequent value in a data set. It is the value that appears the most often in the data set. For example, if you have a data set of 5 numbers: 1, 2, 2, 3, and 5, the mode would be 2."
   ]
  },
  {
   "cell_type": "markdown",
   "metadata": {},
   "source": [
    "#Q3]"
   ]
  },
  {
   "cell_type": "code",
   "execution_count": 1,
   "metadata": {},
   "outputs": [
    {
     "data": {
      "text/plain": [
       "177.01875"
      ]
     },
     "execution_count": 1,
     "metadata": {},
     "output_type": "execute_result"
    }
   ],
   "source": [
    "data = [178,177,176,177,178.2,178,175,179,180,175,178.9,176.2,177,172.5,178,176.5]\n",
    "\n",
    "import numpy as np\n",
    "\n",
    "#mean\n",
    "np.mean(data)"
   ]
  },
  {
   "cell_type": "code",
   "execution_count": 2,
   "metadata": {},
   "outputs": [
    {
     "data": {
      "text/plain": [
       "177.0"
      ]
     },
     "execution_count": 2,
     "metadata": {},
     "output_type": "execute_result"
    }
   ],
   "source": [
    "#median\n",
    "np.median(data)"
   ]
  },
  {
   "cell_type": "code",
   "execution_count": 3,
   "metadata": {},
   "outputs": [
    {
     "data": {
      "text/plain": [
       "ModeResult(mode=177.0, count=3)"
      ]
     },
     "execution_count": 3,
     "metadata": {},
     "output_type": "execute_result"
    }
   ],
   "source": [
    "from scipy import stats\n",
    "stats.mode(data)"
   ]
  },
  {
   "cell_type": "markdown",
   "metadata": {},
   "source": [
    "#Q4]\n",
    "standard deviation for the given data:"
   ]
  },
  {
   "cell_type": "code",
   "execution_count": 5,
   "metadata": {},
   "outputs": [
    {
     "data": {
      "text/plain": [
       "1.7885814036548633"
      ]
     },
     "execution_count": 5,
     "metadata": {},
     "output_type": "execute_result"
    }
   ],
   "source": [
    "#standard deviation\n",
    "np.std(data)"
   ]
  },
  {
   "cell_type": "markdown",
   "metadata": {},
   "source": [
    "#Q5]\n",
    "\n",
    "Range: The range is the difference between the highest and lowest values in a dataset.<br>\n",
    "Variance: The variance is a measure of how spread out the data points in a dataset are from the mean.<br>\n",
    "Standard deviation: The standard deviation is the square root of the variance. It is a measure of how much variation there is from the mean.\n",
    "\n",
    "considering above height data set :\n",
    "\n",
    "The range of the dataset is 7.5 centimeters. This is the difference between the highest value (180 centimeters) and the lowest value (172.5 centimeters).\n"
   ]
  },
  {
   "cell_type": "code",
   "execution_count": 9,
   "metadata": {},
   "outputs": [
    {
     "name": "stdout",
     "output_type": "stream",
     "text": [
      "7.5\n"
     ]
    }
   ],
   "source": [
    "range = np.max(data) - np.min(data)\n",
    "print(range)"
   ]
  },
  {
   "cell_type": "code",
   "execution_count": 11,
   "metadata": {},
   "outputs": [
    {
     "data": {
      "text/plain": [
       "3.199023437500001"
      ]
     },
     "execution_count": 11,
     "metadata": {},
     "output_type": "execute_result"
    }
   ],
   "source": [
    "np.var(data)\n",
    "#The variance of the dataset is 3.12 centimeters squared. \n",
    "#This is a measure of how spread out the data points are from the mean."
   ]
  },
  {
   "cell_type": "code",
   "execution_count": 12,
   "metadata": {},
   "outputs": [
    {
     "data": {
      "text/plain": [
       "1.7885814036548633"
      ]
     },
     "execution_count": 12,
     "metadata": {},
     "output_type": "execute_result"
    }
   ],
   "source": [
    "np.std(data)\n",
    "#The standard deviation of the dataset is 1.79 centimeters.\n",
    "#This is a measure of how much variation there is from the mean."
   ]
  },
  {
   "cell_type": "markdown",
   "metadata": {},
   "source": [
    "#Q6]\n",
    "\n",
    "A Venn diagram is made up of three or more circles, each of which represents a set. The circles are usually drawn so that they overlap, and the overlaps represent the relationships between the sets.\n",
    "\n",
    "For example, if you have three sets: A, B, and C, you could draw a Venn diagram with three circles. The circle for set A would represent all the elements that are in set A, the circle for set B would represent all the elements that are in set B, and the circle for set C would represent all the elements that are in set C.\n",
    "\n",
    "Venn diagrams are a useful way to visualize the relationships between sets. They can be used to help people understand complex concepts, such as probability and logic."
   ]
  },
  {
   "cell_type": "markdown",
   "metadata": {},
   "source": [
    "#Q7]\n",
    "\n",
    "1. A interseption B = {2,6}\n",
    "\n",
    "2. A union B = {0,2,3,4,5,6,7,8,10}"
   ]
  },
  {
   "cell_type": "markdown",
   "metadata": {},
   "source": [
    "#Q8]\n",
    "\n",
    "\n",
    "Skewness is a measure of the asymmetry of a distribution. A distribution is said to be skewed if the majority of the data points are not evenly distributed around the mean.\n",
    "\n",
    "There are two types of skewness: positive skewness and negative skewness.\n",
    "\n",
    "Positive skewness occurs when the tail of the distribution is longer on the right side of the mean. This means that there are more data points that are larger than the mean.<br>\n",
    "Negative skewness occurs when the tail of the distribution is longer on the left side of the mean. This means that there are more data points that are smaller than the mean."
   ]
  },
  {
   "cell_type": "markdown",
   "metadata": {},
   "source": [
    "#Q9] \n",
    "f a data is right skewed, then the mean will be less than the median. This is because the tail of the distribution is longer on the right side, which means that there are more data points that are larger than the mean.\n",
    "\n",
    "The median is the middle value in a data set when it is arranged in ascending or descending order. The mean is the average of all the values in a data set.\n",
    "\n",
    "In a right-skewed distribution, the median will be closer to the lower end of the distribution than the mean. This is because the mean is pulled towards the tail of the distribution, which is made up of the larger values."
   ]
  },
  {
   "cell_type": "markdown",
   "metadata": {},
   "source": [
    "#Q10]\n",
    "\n",
    "**Covariance** measures the extent to which two variables vary together. It is a measure of how much the two variables change together, in either the same direction or in the opposite direction. Covariance can be positive or negative. A positive covariance indicates that the two variables tend to move in the same direction, while a negative covariance indicates that the two variables tend to move in opposite directions.\n",
    "\n",
    "**Correlation** is a measure of the strength of the relationship between two variables. It is a standardized measure of covariance, which means that it takes into account the scale of the two variables. Correlation can range from -1 to 1. A correlation of 1 indicates a perfect positive relationship, a correlation of -1 indicates a perfect negative relationship, and a correlation of 0 indicates no relationship.\n",
    "\n",
    "Covariance and correlation are both used in statistical analysis to measure the relationship between two variables. However, they are used in different ways. Covariance is often used to identify variables that may be related, while correlation is often used to measure the strength of the relationship between two variables."
   ]
  },
  {
   "cell_type": "code",
   "execution_count": 15,
   "metadata": {},
   "outputs": [
    {
     "data": {
      "text/plain": [
       "3.0"
      ]
     },
     "execution_count": 15,
     "metadata": {},
     "output_type": "execute_result"
    }
   ],
   "source": [
    "#Q11]\n",
    "\n",
    "##Formula for Mean : mean = (sum of all values in the dataset) / (number of values in the dataset)\n",
    "\n",
    "dataset = [1, 2, 3, 4, 5]\n",
    "\n",
    "##mean = (1+2+3+4+5)/5 = 3\n",
    "\n",
    "np.mean(dataset)"
   ]
  },
  {
   "cell_type": "markdown",
   "metadata": {},
   "source": [
    "#Q12]\n",
    "\n",
    "In a normal distribution, the three measures of central tendency (mean, median, and mode) are all equal. This is because a normal distribution is symmetrical, which means that the mean, median, and mode are all located at the center of the distribution.\n",
    "\n",
    "In a normal distribution, the mean, median, and mode are all equal because the distribution is symmetrical. This means that the values on the left side of the mean are evenly distributed with the values on the right side of the mean. This also means that the mode, which is the value that appears most often in the distribution, is also located at the center of the distribution.\n",
    "\n"
   ]
  },
  {
   "cell_type": "markdown",
   "metadata": {},
   "source": [
    "#Q13]\n",
    "\n",
    "Covariance and correlation are both statistical measures that indicate the extent to which two variables are related. However, they differ in their interpretation and how they are calculated.\n",
    "\n",
    "Covariance is a measure of how much two variables vary together. It is a measure of how much the two variables change together, in either the same direction or in the opposite direction. Covariance can be positive or negative. A positive covariance indicates that the two variables tend to move in the same direction, while a negative covariance indicates that the two variables tend to move in opposite directions.\n",
    "\n",
    "Correlation is a measure of the strength of the relationship between two variables. It is a standardized measure of covariance, which means that it takes into account the scale of the two variables. Correlation can range from -1 to 1. A correlation of 1 indicates a perfect positive relationship, a correlation of -1 indicates a perfect negative relationship, and a correlation of 0 indicates no relationship.\n"
   ]
  },
  {
   "cell_type": "markdown",
   "metadata": {},
   "source": [
    "#Q14]\n",
    "\n",
    "**Measures of central tendency** are used to summarize the center of a dataset. The most common measures of central tendency are the mean, median, and mode.\n",
    "\n",
    "**Measures of dispersion** are used to summarize the spread of a dataset. The most common measures of dispersion are the range, variance, and standard deviation.\n",
    "\n",
    "Outliers can **increase** the range and variance of a dataset. This is because outliers are often much larger or smaller than the rest of the data, which can increase the distance between the highest and lowest values in the dataset.\n",
    "\n",
    "An example of how outliers can affect measures of central tendency and dispersion:\n",
    "\n",
    "Let's say we have a dataset with the following values: 1, 2, 3, 4, 5, 100\n",
    "\n",
    "The mean of this dataset is 22.22. The median is 3. The mode is 1.\n",
    "\n",
    "The range of this dataset is 99. The variance is 1323. The standard deviation is 36.4.\n",
    "\n",
    "As you can see, the outlier of 100 has a significant impact on the mean, median, range, variance, and standard deviation of the dataset."
   ]
  },
  {
   "cell_type": "markdown",
   "metadata": {},
   "source": []
  }
 ],
 "metadata": {
  "kernelspec": {
   "display_name": "Python 3",
   "language": "python",
   "name": "python3"
  },
  "language_info": {
   "codemirror_mode": {
    "name": "ipython",
    "version": 3
   },
   "file_extension": ".py",
   "mimetype": "text/x-python",
   "name": "python",
   "nbconvert_exporter": "python",
   "pygments_lexer": "ipython3",
   "version": "3.11.3"
  },
  "orig_nbformat": 4
 },
 "nbformat": 4,
 "nbformat_minor": 2
}
