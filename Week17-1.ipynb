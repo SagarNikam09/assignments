{
 "cells": [
  {
   "cell_type": "markdown",
   "id": "016f5ca0-a5c6-4771-9d4e-a9d074c971c7",
   "metadata": {},
   "source": [
    "### Q1. What is Bayes' theorem?\r\n",
    "\r\n",
    "**Bayes' theorem** is a fundamental concept in probability theory that describes the relationship between the probability of an event and prior knowledge of conditions that might be related to the event. It allows us to update the probability estimate for an event based on new evidence or information.\r\n"
   ]
  },
  {
   "cell_type": "markdown",
   "id": "813cf354-c0b8-49e2-9da8-79fb9e240404",
   "metadata": {},
   "source": [
    "### Q2. What is the formula for Bayes' theorem?\r\n",
    "\r\n",
    "**Bayes' theorem** is expressed as:\r\n",
    "\r\n",
    "P(A|B) = [P(B|A) * P(A)] / P(B)\r\n",
    "\r\n",
    "Where:\r\n",
    "- **P(A|B)** is the probability of event A occurring given that B is true.\r\n",
    "- **P(B|A)** is the probability of event B occurring given that A is true.\r\n",
    "- **P(A)** is the probability of event A occurring on its own.\r\n",
    "- **P(B)** is the probability of event B occurring on its own.\r\n"
   ]
  },
  {
   "cell_type": "markdown",
   "id": "240621cc-51de-4491-84a1-fe4bb4f73d38",
   "metadata": {},
   "source": [
    "### Q3. How is Bayes' theorem used in practice?\r\n",
    "\r\n",
    "**Bayes' theorem** is used in various fields such as:\r\n",
    "- **Medical diagnosis**: To update the probability of a disease given a positive or negative test result.\r\n",
    "- **Spam filtering**: To calculate the probability that an email is spam based on the occurrence of certain words.\r\n",
    "- **Machine learning**: In algorithms like Naive Bayes, to predict the likelihood of different outcomes based on prior data.\r\n",
    "- **Decision-making**: To update beliefs or predictions as new data becomes available.\r\n"
   ]
  },
  {
   "cell_type": "markdown",
   "id": "97b93020-30d9-4383-835e-d885fbc95327",
   "metadata": {},
   "source": [
    "### Q4. What is the relationship between Bayes' theorem and conditional probability?\r\n",
    "\r\n",
    "**Relationship**:\r\n",
    "- **Bayes' theorem** is a direct application of **conditional probability**. \r\n",
    "- It allows us to calculate the conditional probability of an event based on prior knowledge and the likelihood of related events.\r\n",
    "- Essentially, Bayes' theorem reverses the conditioning of probability: it lets us compute P(A|B) from P(B|A) using the known probabilities of A and B.\r\n"
   ]
  },
  {
   "cell_type": "markdown",
   "id": "760f495a-9104-499d-b20e-345333217566",
   "metadata": {},
   "source": [
    "### Q5. How do you choose which type of Naive Bayes classifier to use for any given problem?\r\n",
    "\r\n",
    "**Choosing the Naive Bayes classifier** depends on the nature of the data:\r\n",
    "- **Gaussian Naive Bayes**: Use when the features are continuous and are assumed to follow a normal distribution.\r\n",
    "- **Multinomial Naive Bayes**: Ideal for discrete data, especially for text classification problems like document classification or spam detection.\r\n",
    "- **Bernoulli Naive Bayes**: Suitable for binary/boolean features, such as in cases where the features are binary indicators (e.g., presence/absence of a word in text).\r\n",
    "- **Complement Naive Bayes**: An extension of Multinomial Naive Bayes, particularly useful for imbalanced datasets.\r\n"
   ]
  },
  {
   "cell_type": "markdown",
   "id": "c3228442-31b2-49ce-be25-723348a53f16",
   "metadata": {},
   "source": [
    "### Q6. Assignment\n",
    "\n",
    "You have a dataset with two features, X1 and X2, and two possible classes, A and B. You want to use Naive Bayes to classify a new instance with features X1 = 3 and X2 = 4. The following table shows the frequency of each feature value for each class:\n",
    "\n",
    "| Class | X1=1 | X1=2 | X1=3 | X2=1 | X2=2 | X2=3 | X2=4 |\n",
    "|-------|------|------|------|------|------|------|------|\n",
    "| A     | 3    | 3    | 4    | 4    | 3    | 3    | 3    |\n",
    "| B     | 2    | 2    | 1    | 2    | 2    | 2    | 3    |\n",
    "\n",
    "Assuming equal prior probabilities for each class, which class would Naive Bayes predict the new instance to belong to?\n",
    "\n",
    "---\n",
    "\n",
    "### Steps to Solve:\n",
    "\n",
    "1. **Calculate the likelihood for each feature value given each class.**\n",
    "2. **Calculate the prior probabilities for each class.**\n",
    "3. **Use Bayes' theorem to calculate the posterior probability for each class.**\n",
    "4. **Compare the posterior probabilities and predict the class with the highest probability.**\n",
    "\n",
    "### 1. Calculate the Likelihoods:\n",
    "\n",
    "For Class A:\n",
    "- P(X1=3 | A) = 4 / (3 + 3 + 4) = 4 / 10 = 0.4\n",
    "- P(X2=4 | A) = 3 / (4 + 3 + 3 + 3) = 3 / 13 ≈ 0.231\n",
    "\n",
    "For Class B:\n",
    "- P(X1=3 | B) = 1 / (2 + 2 + 1) = 1 / 5 = 0.2\n",
    "- P(X2=4 | B) = 3 / (2 + 2 + 2 + 3) = 3 / 9 ≈ 0.333\n",
    "\n",
    "### 2. Calculate the Prior Probabilities:\n",
    "\n",
    "Since we assume equal prior probabilities for each class:\n",
    "- P(A) = 0.5\n",
    "- P(B) = 0.5\n",
    "\n",
    "### 3. Apply Bayes' Theorem to Calculate the Posterior Probabilities:\n",
    "\n",
    "For Class A:\n",
    "- P(A | X1=3, X2=4) ∝ P(X1=3 | A) * P(X2=4 | A) * P(A)\n",
    "- P(A | X1=3, X2=4) ∝ 0.4 * 0.231 * 0.5 ≈ 0.0462\n",
    "\n",
    "For Class B:\n",
    "- P(B | X1=3, X2=4) ∝ P(X1=3 | B) * P(X2=4 | B) * P(B)\n",
    "- P(B | X1=3, X2=4) ∝ 0.2 * 0.333 * 0.5 ≈ 0.0333\n",
    "\n",
    "### 4. Compare the Posterior Probabilities:\n",
    "\n",
    "- P(A | X1=3, X2=4) ≈ 0.0462\n",
    "- P(B | X1=3, X2=4) ≈ 0.0333\n",
    "\n",
    "### Prediction:\n",
    "Since P(A | X1=3, X2=4) > P(B | X1=3, X2=4), Naive Bayes would predict that the new instance belongs to **Class A**.\n"
   ]
  },
  {
   "cell_type": "code",
   "execution_count": null,
   "id": "479a58cd-4d5c-4d66-bceb-20bf01bb92cf",
   "metadata": {},
   "outputs": [],
   "source": []
  }
 ],
 "metadata": {
  "kernelspec": {
   "display_name": "Python 3 (ipykernel)",
   "language": "python",
   "name": "python3"
  },
  "language_info": {
   "codemirror_mode": {
    "name": "ipython",
    "version": 3
   },
   "file_extension": ".py",
   "mimetype": "text/x-python",
   "name": "python",
   "nbconvert_exporter": "python",
   "pygments_lexer": "ipython3",
   "version": "3.11.7"
  }
 },
 "nbformat": 4,
 "nbformat_minor": 5
}
