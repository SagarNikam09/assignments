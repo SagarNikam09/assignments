{
 "cells": [
  {
   "cell_type": "markdown",
   "id": "ceb5f89c",
   "metadata": {},
   "source": [
    "#Q1]\n",
    "\n",
    "Multiprocessing is a programming technique that allows a program to run multiple processes simultaneously. This can be done by dividing the program into multiple processes, each of which executes a different task.\n",
    "\n",
    "Multiprocessing is useful for improving the performance of programs by allowing them to do multiple things at the same time. This can be especially beneficial for programs that perform long-running tasks, such as image processing or database queries."
   ]
  },
  {
   "cell_type": "markdown",
   "id": "a10c4cb5",
   "metadata": {},
   "source": [
    "#Q2]\n",
    "\n",
    "Processes vs. Threads: Processes are heavyweight entities in Python that have their own memory space, code, and state. They are more independent than threads and can run in parallel on different cores of the CPU. Threads are lightweight entities in Python that share the same memory space, code, and state. They are less independent than processes and can only run on one core of the CPU at a time.\n",
    "\n",
    "Use cases: Multiprocessing is a good choice for programs that need to do multiple things at the same time and that can benefit from running on multiple cores of the CPU. Multithreading is a good choice for programs that need to improve the responsiveness of the program or that need to avoid concurrency problems."
   ]
  },
  {
   "cell_type": "code",
   "execution_count": 2,
   "id": "6d9e621e",
   "metadata": {},
   "outputs": [
    {
     "name": "stdout",
     "output_type": "stream",
     "text": [
      "1\n"
     ]
    }
   ],
   "source": [
    "#Q3]\n",
    "\n",
    "import multiprocessing\n",
    "\n",
    "def factorial(n):\n",
    "    if n == 0:\n",
    "        return 1\n",
    "    else:\n",
    "        return n * factorial(n - 1)\n",
    "\n",
    "if __name__ == \"__main__\":\n",
    "    p = multiprocessing.Process(target=factorial, args=(10,))\n",
    "    p.start()\n",
    "    p.join()\n",
    "    print(p.exitcode)\n"
   ]
  },
  {
   "cell_type": "markdown",
   "id": "0d34dda7",
   "metadata": {},
   "source": [
    "#Q4]\n",
    "\n",
    "A multiprocessing pool in Python is a tool that allows you to execute a group of tasks in parallel. This can be useful for improving the performance of programs that need to do multiple things at the same time.\n",
    "\n",
    "The multiprocessing.Pool class provides a way to create and manage a pool of worker processes. The Pool class has a map() method that can be used to execute a function on a sequence of arguments in parallel.\n",
    "\n",
    "The map() method takes two arguments: the first argument is the function that will be executed, and the second argument is the sequence of arguments that will be passed to the function."
   ]
  },
  {
   "cell_type": "markdown",
   "id": "107d6ac7",
   "metadata": {},
   "source": [
    "#Q5]\n",
    "\n",
    "* Import the multiprocessing module.\n",
    "* Create a Pool object. The Pool object takes an argument that specifies the number of worker processes to create.\n",
    "* Use the map() method to execute a function on a sequence of arguments in parallel. The map() method takes two arguments: the first argument is the function that will be executed, and the second argument is the sequence of arguments that will be passed to the function.\n",
    "* Use the terminate() method to terminate the pool of worker processes.\n",
    "* Use the join() method to wait for the pool of worker processes to finish."
   ]
  },
  {
   "cell_type": "code",
   "execution_count": 1,
   "id": "3525b90e",
   "metadata": {},
   "outputs": [],
   "source": [
    "#Q6]\n",
    "\n",
    "import multiprocessing\n",
    "\n",
    "def print_number(number):\n",
    "    print(number)\n",
    "\n",
    "if __name__ == \"__main__\":\n",
    "    processes = []\n",
    "    for i in range(4):\n",
    "        process = multiprocessing.Process(target=print_number, args=(i,))\n",
    "        processes.append(process)\n",
    "\n",
    "    for process in processes:\n",
    "        process.start()\n",
    "\n",
    "    for process in processes:\n",
    "        process.join()\n"
   ]
  },
  {
   "cell_type": "code",
   "execution_count": null,
   "id": "c47bc6e4",
   "metadata": {},
   "outputs": [],
   "source": []
  }
 ],
 "metadata": {
  "kernelspec": {
   "display_name": "Python 3 (ipykernel)",
   "language": "python",
   "name": "python3"
  },
  "language_info": {
   "codemirror_mode": {
    "name": "ipython",
    "version": 3
   },
   "file_extension": ".py",
   "mimetype": "text/x-python",
   "name": "python",
   "nbconvert_exporter": "python",
   "pygments_lexer": "ipython3",
   "version": "3.9.12"
  }
 },
 "nbformat": 4,
 "nbformat_minor": 5
}
