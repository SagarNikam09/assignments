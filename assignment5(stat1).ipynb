{
 "cells": [
  {
   "cell_type": "markdown",
   "id": "29488336",
   "metadata": {},
   "source": [
    "#Q1]\n",
    "\n",
    "Statistics is the science of collecting, analyzing, interpreting, and presenting data. It is a powerful tool that can be used to make informed decisions in a variety of fields, including business, government, and healthcare."
   ]
  },
  {
   "cell_type": "markdown",
   "id": "5bc211e8",
   "metadata": {},
   "source": [
    "#Q2]\n",
    "\n",
    "There are two main types of statistics: descriptive statistics and inferential statistics.\n",
    "\n",
    "\n",
    "1)**Descriptive statistics** are used to describe data. They summarize the data and help us understand its main features. Some common descriptive statistics include measures of central tendency (mean, median, and mode), measures of variability (variance and standard deviation), and frequency distributions.\n",
    "It used to summarize the results of a survey, to describe the distribution of grades in a class, or to track the sales of a product over time.\n",
    "\n",
    "2)**Inferential statistics** are used to make inferences about a population from a sample. They allow us to test hypotheses and draw conclusions about the population. Some common inferential statistics include t-tests, ANOVA, and regression analysis.\n",
    "It used to test whether there is a difference in the average height of men and women, to determine whether a new drug is effective, or to predict the outcome of an election.\n"
   ]
  },
  {
   "cell_type": "markdown",
   "id": "ba9457b8",
   "metadata": {},
   "source": [
    "#Q3]\n",
    "\n",
    "1) **Qualitative data** is data that is not numerical. It is typically used to describe things or events.<br>\n",
    "    Examples of qualitative data include: description of a person, place, or thing.\n",
    "2) **Quantitative data** is data that is numerical. It is typically used to measure things or events.<br>\n",
    "    Examples of quantitative data include: Numbers, dates, times, percentages\n",
    "3) **Discrete data** is data that can only take on a limited number of values.<br>\n",
    "    Examples of discrete data include: The number of students in a class, the number of cars sold in a month.\n",
    "4) **Continuous data** is data that can take on any value within a range.<br>\n",
    "    Examples of continuous data include: The height of a person, the weight of an object.\n",
    "\n",
    "\n",
    "\n"
   ]
  },
  {
   "cell_type": "markdown",
   "id": "d4e0e00c",
   "metadata": {},
   "source": [
    "#Q4]\n",
    "1) Qualitative Data\n",
    "2) Qualitative Data\n",
    "3) Quantitative Data\n",
    "4) Quantitative Data"
   ]
  },
  {
   "cell_type": "markdown",
   "id": "a2395d84",
   "metadata": {},
   "source": [
    "#Q5] \n",
    "1) **Nominal**: The lowest level of measurement. Nominal data is used to classify data into mutually exclusive categories. The categories have no order or ranking. <br>\n",
    "For example, gender (male or female) and eye color (blue, green, brown, etc.) are nominal variables.\n",
    "2) **Ordinal**: The next level of measurement. Ordinal data can be ranked in order, but the difference between the values is not meaningful.<br>\n",
    "For example, a survey question that asks respondents to rate their satisfaction with a product on a scale of 1 to 5 is an ordinal variable.\n",
    "3) **Interval**: The third level of measurement. Interval data can be ranked in order, and the difference between the values is meaningful. However, there is no true zero point.<br>\n",
    "For example, temperature is an interval variable.\n",
    "4) **Ratio**: The highest level of measurement. Ratio data has all the properties of interval data, plus there is a true zero point.<br>\n",
    "For example, weight is a ratio variable."
   ]
  },
  {
   "cell_type": "markdown",
   "id": "b2dc73b1",
   "metadata": {},
   "source": [
    "#Q6]\n",
    "\n",
    "The level of measurement is important to understand when analyzing data because it determines the type of statistical analysis that can be performed on the data. For example, nominal data can only be used with descriptive statistics, while interval and ratio data can be used with both descriptive and inferential statistics.\n",
    "\n",
    "Here is an example:\n",
    "1) **Nominal data:** Suppose you have a dataset that contains the gender of a group of people. This data is nominal because it is classified into two mutually exclusive categories: male and female. The level of measurement of this data is nominal, so you can only use descriptive statistics to analyze it. For example, you could calculate the percentage of males in the dataset.\n",
    "2) **Ordinal data:** Suppose you have a dataset that contains the satisfaction of a group of people with a product on a scale of 1 to 5. This data is ordinal because it can be ranked in order, but the difference between the values is not meaningful. The level of measurement of this data is ordinal, so you can use both descriptive and inferential statistics to analyze it. For example, you could calculate the mean satisfaction score or conduct a t-test to compare the satisfaction scores of two groups of people.\n",
    "3) **Interval data:** Suppose you have a dataset that contains the temperature in degrees Celsius of a group of cities. This data is interval because it can be ranked in order, and the difference between the values is meaningful. However, there is no true zero point. The level of measurement of this data is interval, so you can use both descriptive and inferential statistics to analyze it. For example, you could calculate the mean temperature or conduct a correlation analysis to see if there is a relationship between the temperature and the number of people who visit a city.\n",
    "4) **Ratio data:** Suppose you have a dataset that contains the weight in kilograms of a group of people. This data is ratio because it has all the properties of interval data, plus there is a true zero point. The level of measurement of this data is ratio, so you can use all types of statistical analysis on it. For example, you could calculate the mean weight, the standard deviation, or the correlation between the weight and the height of the people in the dataset."
   ]
  },
  {
   "cell_type": "markdown",
   "id": "0719f2bd",
   "metadata": {},
   "source": [
    "#Q7] \n",
    "\n",
    "Nominal data and ordinal data are two of the four levels of measurement in statistics. They are both categorical data, meaning that they are classified into categories. However, there are some key differences between the two types of data.\n",
    "\n",
    "**Nominal data** is the lowest level of measurement. It is used to classify data into mutually exclusive categories. The categories have no order or ranking. For example, gender (male or female) and eye color (blue, green, brown, etc.) are nominal variables.<br>\n",
    "**Ordinal data** can be ranked in order, but the difference between the values is not meaningful. For example, a survey question that asks respondents to rate their satisfaction with a product on a scale of 1 to 5 is an ordinal variable."
   ]
  },
  {
   "cell_type": "markdown",
   "id": "de86143d",
   "metadata": {},
   "source": [
    "#Q8] <br>\n",
    "There are a few different types of plots that can be used to display data in terms of range.\n",
    "\n",
    "1) **Bar graph:** A bar graph is a simple and effective way to display data in terms of range. The bars in a bar graph can be used to represent the minimum, maximum, and average values of the data.\n",
    "\n",
    "2) **Box plot:** A box plot is another popular way to display data in terms of range. A box plot shows the minimum, maximum, first quartile, median, and third quartile of the data.\n",
    "\n",
    "3) **Histogram:** A histogram is a more specialized type of plot that can be used to display data in terms of range. A histogram shows the distribution of the data in terms of the number of values that fall within each range.\n"
   ]
  },
  {
   "cell_type": "markdown",
   "id": "9e6af4e4",
   "metadata": {},
   "source": [
    "#Q9]<br>\n",
    "**Descriptive statistics** are used to summarize data and describe its main features. They do not make inferences about the population from which the data was collected. <br>\n",
    "Some examples of descriptive statistics include:Measures of central tendency,Measures of variability,Frequency distributions.\n",
    "\n",
    "**Inferential statistics** are used to make inferences about a population from a sample of data. They do this by using probability theory to estimate the parameters of the population, such as the mean and standard deviation.<br>\n",
    "Some examples of inferential statistics include:\n",
    "Hypothesis testing,Confidence intervals,Regression analysis.\n",
    "\n",
    "A company wants to know the average height of its employees. The company collects data on the height of all of its employees and uses descriptive statistics to summarize the data. The company finds that the average height of its employees is 5'10\".\n",
    "\n",
    "A researcher wants to know if there is a difference in the average height of men and women. The researcher collects data on the height of a sample of men and women and uses inferential statistics to test whether there is a significant difference between the two groups. The researcher finds that there is a significant difference in the average height of men and women, with men being taller on average."
   ]
  },
  {
   "cell_type": "markdown",
   "id": "8f922da3",
   "metadata": {},
   "source": [
    "#Q10]\n",
    "\n",
    "**Measures of central tendency**\n",
    "\n",
    "1) **Mean:** The mean is the average of all the values in a dataset. It is calculated by adding up all the values in the dataset and dividing by the number of values.\n",
    "2) **Median:** The median is the middle value in a dataset when all the values are ranked from smallest to largest. If there is an even number of values in the dataset, the median is the average of the two middle values.\n",
    "3) **Mode:** The mode is the most frequent value in a dataset.\n",
    "\n",
    "**Measures of variability**\n",
    "\n",
    "1) **Range:** The range is the difference between the largest and smallest values in a dataset.\n",
    "2) **Variance:** The variance is a measure of how spread out the data is. It is calculated by taking the average of the squared differences between each value in the dataset and the mean.\n",
    "3) **Standard deviation:** The standard deviation is the square root of the variance. It is a more interpretable measure of variability than the variance because it is in the same units as the data.\n",
    "\n",
    "These measures can be used to describe a dataset in a number of ways. For example, the mean can be used to describe the average value in the dataset. The median can be used to describe the middle value in the dataset. The mode can be used to describe the most frequent value in the dataset.\n"
   ]
  },
  {
   "cell_type": "code",
   "execution_count": null,
   "id": "0d3b0b3a",
   "metadata": {},
   "outputs": [],
   "source": []
  }
 ],
 "metadata": {
  "kernelspec": {
   "display_name": "Python 3 (ipykernel)",
   "language": "python",
   "name": "python3"
  },
  "language_info": {
   "codemirror_mode": {
    "name": "ipython",
    "version": 3
   },
   "file_extension": ".py",
   "mimetype": "text/x-python",
   "name": "python",
   "nbconvert_exporter": "python",
   "pygments_lexer": "ipython3",
   "version": "3.9.12"
  }
 },
 "nbformat": 4,
 "nbformat_minor": 5
}
