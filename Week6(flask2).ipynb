{
 "cells": [
  {
   "cell_type": "markdown",
   "id": "152a5ee5",
   "metadata": {},
   "source": [
    "#Q1]\n",
    "\n",
    "GET: The GET method is used to retrieve a resource. It is a safe method, which means that it cannot be used to modify a resource. The data that is sent with a GET request is included in the URL.\n",
    "\n",
    "POST: The POST method is used to create a resource or to modify a resource. It is a non-safe method, which means that it can be used to modify a resource. The data that is sent with a POST request is not included in the URL.\n",
    "\n",
    "For example, if you use the GET method to create a resource, the data that is sent with the request will be visible in the URL. This can be a security vulnerability, because it could allow attackers to see the data that is being used to create the resource.\n",
    "\n",
    "It is also important to note that some browsers do not support the POST method for certain resources. For example, some browsers do not support the POST method for images."
   ]
  },
  {
   "cell_type": "markdown",
   "id": "252da247",
   "metadata": {},
   "source": [
    "#Q2]\n",
    "\n",
    "The request object in Flask is used to access the current request. It provides information about the request, such as the HTTP method, the URL, the headers, and the body.\n",
    "\n",
    "The request object is used in Flask to:\n",
    "\n",
    "* Get the HTTP method: The request.method property returns the HTTP method of the request.\n",
    "* Get the URL: The request.url property returns the URL of the request.\n",
    "* Get the headers: The request.headers property returns the headers of the request.\n",
    "* Get the body: The request.data property returns the body of the request."
   ]
  },
  {
   "cell_type": "markdown",
   "id": "ea80d54d",
   "metadata": {},
   "source": [
    "#Q3]\n",
    "\n",
    "The `redirect()` function in Flask is used to redirect the user to a different URL. It takes one argument: the URL that the user should be redirected to.\n",
    "\n",
    "The `redirect()` function is used in Flask to:\n",
    "\n",
    "* **Redirect the user to a different page:** The `redirect()` function can be used to redirect the user to a different page in the same application. For example, you could use the `redirect()` function to redirect the user to the login page if they are not logged in.\n",
    "* **Redirect the user to a different application:** The `redirect()` function can also be used to redirect the user to a different application. For example, you could use the `redirect()` function to redirect the user to a third-party payment processor.\n",
    "* **Redirect the user with a status code:** The `redirect()` function can also be used to redirect the user with a status code. For example, you could use the `redirect()` function to redirect the user with a 301 status code, which means that the page has been permanently moved.\n"
   ]
  },
  {
   "cell_type": "markdown",
   "id": "8aa0f873",
   "metadata": {},
   "source": [
    "#Q4]\n",
    "\n",
    "Templates in Flask are used to render dynamic content. They are HTML files that are used to generate the final HTML document that is sent to the user.\n",
    "\n",
    "The `render_template()` function in Flask is used to render a template. It takes two arguments: the name of the template and a dictionary of variables that are passed to the template.\n",
    "\n",
    "The `render_template()` function is used in Flask to:\n",
    "\n",
    "* **Render a template:** The `render_template()` function can be used to render a template that is stored in the application's templates folder.\n",
    "* **Pass variables to a template:** The `render_template()` function can be used to pass variables to a template. These variables can be used in the template to dynamically generate the content.\n",
    "* **Extend a template:** The `render_template()` function can be used to extend a template. This means that you can use the content of one template in another template.\n",
    "\n"
   ]
  },
  {
   "cell_type": "code",
   "execution_count": null,
   "id": "c201e255",
   "metadata": {},
   "outputs": [
    {
     "name": "stdout",
     "output_type": "stream",
     "text": [
      " * Serving Flask app \"__main__\" (lazy loading)\n",
      " * Environment: production\n",
      "\u001b[31m   WARNING: This is a development server. Do not use it in a production deployment.\u001b[0m\n",
      "\u001b[2m   Use a production WSGI server instead.\u001b[0m\n",
      " * Debug mode: off\n"
     ]
    },
    {
     "name": "stderr",
     "output_type": "stream",
     "text": [
      " * Running on all addresses.\n",
      "   WARNING: This is a development server. Do not use it in a production deployment.\n",
      " * Running on http://192.168.119.135:5000/ (Press CTRL+C to quit)\n",
      "192.168.119.135 - - [27/Aug/2023 19:23:59] \"GET / HTTP/1.1\" 404 -\n",
      "192.168.119.135 - - [27/Aug/2023 19:24:10] \"GET / HTTP/1.1\" 404 -\n",
      "192.168.119.135 - - [27/Aug/2023 19:24:15] \"GET /hello HTTP/1.1\" 200 -\n",
      "192.168.119.135 - - [27/Aug/2023 19:24:25] \"GET /hello?sagar HTTP/1.1\" 200 -\n"
     ]
    }
   ],
   "source": [
    "#Q5]\n",
    "\n",
    "from flask import Flask, request\n",
    "\n",
    "app = Flask(__name__)\n",
    "\n",
    "@app.route('/hello')\n",
    "def hello():\n",
    "    name= request.args.get('name', default='World')\n",
    "\n",
    "    return 'Hello, {}!'.format(name)\n",
    "\n",
    "if __name__==\"__main__\":\n",
    "    app.run(host=\"0.0.0.0\")"
   ]
  },
  {
   "cell_type": "code",
   "execution_count": null,
   "id": "3ac47e20",
   "metadata": {},
   "outputs": [],
   "source": []
  }
 ],
 "metadata": {
  "kernelspec": {
   "display_name": "Python 3 (ipykernel)",
   "language": "python",
   "name": "python3"
  },
  "language_info": {
   "codemirror_mode": {
    "name": "ipython",
    "version": 3
   },
   "file_extension": ".py",
   "mimetype": "text/x-python",
   "name": "python",
   "nbconvert_exporter": "python",
   "pygments_lexer": "ipython3",
   "version": "3.9.12"
  }
 },
 "nbformat": 4,
 "nbformat_minor": 5
}
