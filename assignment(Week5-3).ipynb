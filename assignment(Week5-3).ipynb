{
 "cells": [
  {
   "cell_type": "markdown",
   "id": "7dfe657c",
   "metadata": {},
   "source": [
    "#Q1]\n",
    "\n",
    "Multithreading is a programming technique that allows a program to run multiple tasks simultaneously. This can be done by dividing the program into multiple threads, each of which executes a different task.\n",
    "\n",
    "Threads are lightweight processes that share the same memory space and resources as the main process. This makes them more efficient than creating separate processes for each task.\n",
    "\n",
    "* Thread: This class represents a thread of execution.\n",
    "* Lock: This class is used to synchronize access to shared resources.\n",
    "* Condition: This class is used to wait for a condition to be met.\n",
    "* Event: This class is used to signal an event."
   ]
  },
  {
   "cell_type": "markdown",
   "id": "4c49fd0c",
   "metadata": {},
   "source": [
    "#Q2]\n",
    "\n",
    "The threading module is used to create and manage threads in Python. Threads are lightweight processes that share the same memory space and resources as the main process. This makes them more efficient than creating separate processes for each task.\n",
    "\n",
    "The threading module provides a number of functions for creating and managing threads, including:\n",
    "* activeCount(): This function returns the number of active threads in the current process.\n",
    "* currentThread(): This function returns the current thread object.\n",
    "* enumerate(): This function returns an iterator that enumerates all of the active threads in the current process."
   ]
  },
  {
   "cell_type": "markdown",
   "id": "c191d3bb",
   "metadata": {},
   "source": [
    "#Q3]\n",
    "\n",
    "* run(): This method is called by the operating system when the thread is started. It is responsible for executing the thread's target function.\n",
    "* start(): This method starts the thread. It calls the thread's run() method in a separate thread of execution.\n",
    "* join(): This method waits for the thread to finish executing. It blocks the calling thread until the thread finishes running.\n",
    "* isAlive(): This method returns True if the thread is still running, False otherwise."
   ]
  },
  {
   "cell_type": "code",
   "execution_count": 5,
   "id": "576c4d50",
   "metadata": {},
   "outputs": [
    {
     "name": "stdout",
     "output_type": "stream",
     "text": [
      "0\n",
      "1\n",
      "4\n",
      "9\n",
      "16\n",
      "25\n",
      "36\n",
      "49\n",
      "64\n",
      "81\n",
      "0\n",
      "1\n",
      "8\n",
      "27\n",
      "64\n",
      "125\n",
      "216\n",
      "343\n",
      "512\n",
      "729\n",
      "All threads finished\n"
     ]
    }
   ],
   "source": [
    "#Q4]\n",
    "import threading\n",
    "\n",
    "def print_squares():\n",
    "  for i in range(10):\n",
    "    print(i * i)\n",
    "\n",
    "def print_cubes():\n",
    "  for i in range(10):\n",
    "    print(i * i * i)\n",
    "\n",
    "threads = []\n",
    "\n",
    "thread1 = threading.Thread(target=print_squares)\n",
    "thread2 = threading.Thread(target=print_cubes)\n",
    "\n",
    "threads.append(thread1)\n",
    "threads.append(thread2)\n",
    "\n",
    "for thread in threads:\n",
    "  thread.start()\n",
    "\n",
    "for thread in threads:\n",
    "  thread.join()\n",
    "\n",
    "print(\"All threads finished\")\n"
   ]
  },
  {
   "cell_type": "markdown",
   "id": "180bb24b",
   "metadata": {},
   "source": [
    "#Q5]\n",
    "\n",
    "**Advantages**\n",
    "\n",
    "* **Increased performance:** Multithreading can improve the performance of programs by allowing them to do multiple things at the same time. This can be especially beneficial for programs that perform long-running tasks, such as image processing or database queries.\n",
    "* **Improved responsiveness:** Multithreading can also improve the responsiveness of programs by allowing them to respond to user input more quickly. This is because multiple threads can be running at the same time, so the program does not have to wait for one thread to finish before it can start processing user input.\n",
    "* **Reduced resource usage:** Multithreading can also reduce resource usage by allowing multiple threads to share the same resources, such as CPU time and memory. This can be beneficial for programs that are running on limited resources, such as mobile devices or embedded systems.\n",
    "\n",
    "**Disadvantages**\n",
    "\n",
    "* **Complexity:** Multithreaded programs can be more complex to develop and debug than single-threaded programs. This is because the programmer needs to be aware of the potential for race conditions and deadlocks.\n",
    "* **Concurrency problems:** Multithreaded programs are susceptible to concurrency problems, such as race conditions and deadlocks. Race conditions occur when two or more threads are accessing the same data at the same time and the results of the operation depend on the order in which the threads access the data. Deadlocks occur when two or more threads are waiting for each other to finish, and this results in a situation where no thread can progress.\n",
    "* **Scheduling overhead:** The operating system needs to schedule the threads to run on the CPU. This can add overhead, which can reduce the performance of the program.\n"
   ]
  },
  {
   "cell_type": "markdown",
   "id": "ef728539",
   "metadata": {},
   "source": [
    "#Q6]\n",
    "\n",
    "**Deadlock** is a situation in which two or more threads are blocked waiting for each other to finish. This can happen when two threads are each holding a resource that the other thread needs. For example, let's say two threads are each holding a lock on a different file. If both threads then try to acquire the lock on the other file, they will deadlock.\n",
    "\n",
    "**Race condition** is a situation in which the outcome of a program depends on the order in which two or more threads access shared data. This can happen when two threads are both trying to update the same data at the same time. For example, let's say two threads are both trying to increment the value of a variable. If the threads access the variable in different orders, the final value of the variable will be different."
   ]
  },
  {
   "cell_type": "code",
   "execution_count": null,
   "id": "69e2d029",
   "metadata": {},
   "outputs": [],
   "source": []
  }
 ],
 "metadata": {
  "kernelspec": {
   "display_name": "Python 3 (ipykernel)",
   "language": "python",
   "name": "python3"
  },
  "language_info": {
   "codemirror_mode": {
    "name": "ipython",
    "version": 3
   },
   "file_extension": ".py",
   "mimetype": "text/x-python",
   "name": "python",
   "nbconvert_exporter": "python",
   "pygments_lexer": "ipython3",
   "version": "3.9.12"
  }
 },
 "nbformat": 4,
 "nbformat_minor": 5
}
