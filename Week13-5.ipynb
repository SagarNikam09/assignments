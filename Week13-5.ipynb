{
 "cells": [
  {
   "cell_type": "code",
   "execution_count": 2,
   "id": "5008c2a7-50e7-4025-a906-32749534f3f4",
   "metadata": {},
   "outputs": [
    {
     "name": "stdout",
     "output_type": "stream",
     "text": [
      "1.0\n"
     ]
    }
   ],
   "source": [
    "### Q1\n",
    "\n",
    "import numpy as np\n",
    "\n",
    "study_time = [2, 3, 4, 5, 6]\n",
    "exam_scores = [55, 60, 65, 70, 75]\n",
    "correlation = np.corrcoef(study_time, exam_scores)[0, 1]\n",
    "\n",
    "print(correlation)\n"
   ]
  },
  {
   "cell_type": "code",
   "execution_count": 4,
   "id": "8f3adfc6-ce2a-4ab6-a557-563b712e4371",
   "metadata": {},
   "outputs": [
    {
     "name": "stdout",
     "output_type": "stream",
     "text": [
      "0.8999999999999998\n"
     ]
    }
   ],
   "source": [
    "### Q2\n",
    "from scipy.stats import spearmanr\n",
    "\n",
    "sleep = [6, 7, 8, 5, 9]\n",
    "job_satisfaction = [4, 6, 7, 5, 8]\n",
    "correlation, _ = spearmanr(sleep, job_satisfaction)\n",
    "\n",
    "print(correlation)\n"
   ]
  },
  {
   "cell_type": "code",
   "execution_count": 6,
   "id": "13ea0f8b-f7d4-4cb6-94e7-0a1cf784dbde",
   "metadata": {},
   "outputs": [
    {
     "name": "stdout",
     "output_type": "stream",
     "text": [
      "Pearson: -0.9999999999999999\n",
      "Spearman: -0.9999999999999999\n"
     ]
    }
   ],
   "source": [
    "### Q3\n",
    "exercise_hours = [2, 4, 6, 8, 10]\n",
    "bmi = [30, 28, 26, 24, 22]\n",
    "\n",
    "# Pearson\n",
    "pearson_correlation = np.corrcoef(exercise_hours, bmi)[0, 1]\n",
    "\n",
    "# Spearman\n",
    "spearman_correlation, _ = spearmanr(exercise_hours, bmi)\n",
    "\n",
    "print(\"Pearson:\", pearson_correlation)\n",
    "print(\"Spearman:\", spearman_correlation)\n"
   ]
  },
  {
   "cell_type": "code",
   "execution_count": 8,
   "id": "88971530-1b3b-44c8-a45e-b4e197503a80",
   "metadata": {},
   "outputs": [
    {
     "name": "stdout",
     "output_type": "stream",
     "text": [
      "-0.9999999999999999\n"
     ]
    }
   ],
   "source": [
    "### Q4\n",
    "tv_hours = [1, 2, 3, 4, 5]\n",
    "physical_activity = [10, 8, 6, 4, 2]\n",
    "correlation = np.corrcoef(tv_hours, physical_activity)[0, 1]\n",
    "\n",
    "print(correlation)\n"
   ]
  },
  {
   "cell_type": "code",
   "execution_count": 10,
   "id": "7a669aeb-a8f0-47df-aa77-de4896f7ac89",
   "metadata": {},
   "outputs": [
    {
     "name": "stdout",
     "output_type": "stream",
     "text": [
      "0.7691751415594736\n"
     ]
    }
   ],
   "source": [
    "### Q5\n",
    "from sklearn.preprocessing import LabelEncoder\n",
    "import numpy as np\n",
    "\n",
    "# Data\n",
    "age = [25, 42, 37, 19, 31, 28]\n",
    "soft_drink_preference = ['Coke', 'Pepsi', 'Mountain dew', 'Coke', 'Pepsi', 'Coke']\n",
    "\n",
    "# Encode categorical data\n",
    "le = LabelEncoder()\n",
    "encoded_soft_drink_preference = le.fit_transform(soft_drink_preference)\n",
    "\n",
    "# Calculate Pearson correlation\n",
    "correlation = np.corrcoef(age, encoded_soft_drink_preference)[0, 1]\n",
    "\n",
    "print(correlation)\n"
   ]
  },
  {
   "cell_type": "code",
   "execution_count": 12,
   "id": "4808a145-3597-4027-9c5e-f8f07ed03616",
   "metadata": {},
   "outputs": [
    {
     "name": "stdout",
     "output_type": "stream",
     "text": [
      "1.0\n"
     ]
    }
   ],
   "source": [
    "### Q6\n",
    "import numpy as np\n",
    "\n",
    "# Sample data\n",
    "sales_calls_per_day = [10, 20, 30, 40, 50, 60, 70, 80, 90, 100]\n",
    "sales_per_week = [50, 60, 70, 80, 90, 100, 110, 120, 130, 140]\n",
    "\n",
    "# Calculate Pearson correlation\n",
    "correlation = np.corrcoef(sales_calls_per_day, sales_per_week)[0, 1]\n",
    "\n",
    "print(correlation)\n"
   ]
  },
  {
   "cell_type": "code",
   "execution_count": null,
   "id": "23ed0b5c-64c0-41df-9e42-a299e03a4fa1",
   "metadata": {},
   "outputs": [],
   "source": []
  }
 ],
 "metadata": {
  "kernelspec": {
   "display_name": "Python 3 (ipykernel)",
   "language": "python",
   "name": "python3"
  },
  "language_info": {
   "codemirror_mode": {
    "name": "ipython",
    "version": 3
   },
   "file_extension": ".py",
   "mimetype": "text/x-python",
   "name": "python",
   "nbconvert_exporter": "python",
   "pygments_lexer": "ipython3",
   "version": "3.11.7"
  }
 },
 "nbformat": 4,
 "nbformat_minor": 5
}
