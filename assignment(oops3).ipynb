{
 "cells": [
  {
   "cell_type": "markdown",
   "metadata": {},
   "source": [
    "#Q1]\n",
    "\n",
    "Abstraction is a fundamental concept in object-oriented programming (OOP). It is the process of hiding the implementation details of an object from the user. This allows the user to focus on the essential features of the object without having to worry about how it works.\n",
    "\n",
    "For example, a Car object might have an accelerate() method. The user of the object does not need to know how the car actually accelerates. They just need to know that they can call the accelerate() method to make the car go faster."
   ]
  },
  {
   "cell_type": "code",
   "execution_count": 2,
   "metadata": {},
   "outputs": [
    {
     "name": "stdout",
     "output_type": "stream",
     "text": [
      "The car is accelerating\n"
     ]
    }
   ],
   "source": [
    "from abc import abstractmethod\n",
    "\n",
    "class Car:\n",
    "    @abstractmethod\n",
    "    def accelerate(self):\n",
    "        pass\n",
    "\n",
    "class Tesla(Car):\n",
    "    def accelerate(self):\n",
    "        print(\"The car is accelerating\")\n",
    "\n",
    "car = Tesla()\n",
    "car.accelerate()\n"
   ]
  },
  {
   "cell_type": "markdown",
   "metadata": {},
   "source": [
    "#Q2]\n",
    "\n",
    "Abstraction and encapsulation are two closely related concepts in OOP. Abstraction is the process of hiding the implementation details of an object, while encapsulation is the process of wrapping data and methods into a single unit (object).\n",
    "\n",
    "the accelerate() and brake() methods are abstract. This means that the implementation details of the methods are hidden from the user. The user only needs to know that they can call the accelerate() method to make the car go faster and the brake() method to make the car slow down.\n",
    "\n",
    "The Car class is also encapsulated. This means that the data and methods of the class are wrapped into a single unit. The user of the Car class cannot directly access the data and methods of the class. They can only access the data and methods through the public methods of the class."
   ]
  },
  {
   "cell_type": "markdown",
   "metadata": {},
   "source": [
    "#Q3]\n",
    "\n",
    "The abc module in Python is used to define abstract base classes. Abstract base classes are classes that cannot be instantiated. They are used to define the common interface for a group of classes.\n",
    "\n",
    "For example, we could define an abstract base class called Shape. The Shape class would define the common interface for all shapes. The Shape class would have methods for calculating the area and perimeter of a shape.\n",
    "\n",
    "Concrete classes that inherit from the Shape class would implement the area() and perimeter() methods. For example, a Circle class would inherit from the Shape class and implement the area() and perimeter() methods to calculate the area and perimeter of a circle."
   ]
  },
  {
   "cell_type": "markdown",
   "metadata": {},
   "source": [
    "#Q4]\n",
    "\n",
    "There are two main ways to achieve data abstraction:\n",
    "\n",
    "Using **abstract base classes**: Abstract base classes are a way to define the common interface for a group of classes. This allows us to hide the implementation details of the classes from the user.\n",
    "\n",
    "Using **getters and setters**: Getters and setters are methods that are used to get and set the values of the attributes of an object. This allows us to hide the implementation details of the attributes from the user."
   ]
  },
  {
   "cell_type": "markdown",
   "metadata": {},
   "source": [
    "#Q5]\n",
    "\n",
    "No, we cannot create an instance of an abstract class. Abstract classes are used to define the common interface for a group of classes. They are not intended to be instantiated.\n",
    "\n"
   ]
  },
  {
   "cell_type": "code",
   "execution_count": 18,
   "metadata": {},
   "outputs": [
    {
     "ename": "TypeError",
     "evalue": "Can't instantiate abstract class Shape with abstract method area",
     "output_type": "error",
     "traceback": [
      "\u001b[1;31m---------------------------------------------------------------------------\u001b[0m",
      "\u001b[1;31mTypeError\u001b[0m                                 Traceback (most recent call last)",
      "Cell \u001b[1;32mIn[18], line 8\u001b[0m\n\u001b[0;32m      4\u001b[0m     \u001b[39m@abstractmethod\u001b[39m\n\u001b[0;32m      5\u001b[0m     \u001b[39mdef\u001b[39;00m \u001b[39marea\u001b[39m(\u001b[39mself\u001b[39m):\n\u001b[0;32m      6\u001b[0m         \u001b[39mpass\u001b[39;00m\n\u001b[1;32m----> 8\u001b[0m shape \u001b[39m=\u001b[39m Shape()\n",
      "\u001b[1;31mTypeError\u001b[0m: Can't instantiate abstract class Shape with abstract method area"
     ]
    }
   ],
   "source": [
    "from abc import ABCMeta, abstractmethod\n",
    "\n",
    "class Shape(metaclass=ABCMeta):\n",
    "    @abstractmethod\n",
    "    def area(self):\n",
    "        pass\n",
    "\n",
    "shape = Shape()\n"
   ]
  },
  {
   "cell_type": "code",
   "execution_count": null,
   "metadata": {},
   "outputs": [],
   "source": []
  }
 ],
 "metadata": {
  "kernelspec": {
   "display_name": "Python 3",
   "language": "python",
   "name": "python3"
  },
  "language_info": {
   "codemirror_mode": {
    "name": "ipython",
    "version": 3
   },
   "file_extension": ".py",
   "mimetype": "text/x-python",
   "name": "python",
   "nbconvert_exporter": "python",
   "pygments_lexer": "ipython3",
   "version": "3.11.3"
  },
  "orig_nbformat": 4
 },
 "nbformat": 4,
 "nbformat_minor": 2
}
