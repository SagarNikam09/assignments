{
 "cells": [
  {
   "cell_type": "markdown",
   "id": "c276ca22-ebb8-4cea-8c63-3443921616ee",
   "metadata": {},
   "source": [
    "### Q1\n",
    "\n",
    "Data encoding is the process of transforming categorical data into numerical format so that machine learning algorithms can process it. This is essential in data science because many algorithms require numerical input. Encoded data helps in effectively representing and analyzing the underlying patterns in the data.\n",
    "\n",
    "### Q2\n",
    "\n",
    "Nominal encoding, also known as label encoding, assigns a unique numerical value to each category in a categorical feature. For example, in a dataset of fruits, \"apple\", \"banana\", and \"cherry\" could be encoded as 1, 2, and 3 respectively. This is useful in situations where there is no ordinal relationship between categories.\n",
    "\n",
    "### Q3\n",
    "\n",
    "Nominal encoding is preferred over one-hot encoding when the categorical feature has a large number of unique values, which would result in a very high-dimensional feature space with one-hot encoding. For example, encoding ZIP codes or product IDs is more practical with nominal encoding.\n",
    "\n",
    "### Q4\n",
    "\n",
    "For a dataset with categorical data containing 5 unique values, one-hot encoding would be suitable. This method creates binary columns for each category, ensuring no ordinal relationships are implied between the values. It is preferred because it avoids any false assumptions of order or hierarchy.\n",
    "\n",
    "### Q5\n",
    "\n",
    "Using nominal encoding for 2 categorical columns, each with 5 unique values, would result in 2 new columns (one for each categorical feature). Nominal encoding replaces each category with a single integer, maintaining the same number of columns but transforming their content into a numerical format.\n",
    "\n",
    "### Q6\n",
    "\n",
    "For the animal dataset, one-hot encoding would be ideal as it creates binary columns for each category of species, habitat, and diet. This method prevents any false assumptions about the relationships between different categories, which is important for accurately representing the data.\n",
    "\n",
    "### Q7\n",
    "\n",
    "For predicting customer churn with categorical features like gender and contract type, the following steps can be implemented:\n",
    "\n",
    "1. **Gender**: Apply one-hot encoding, resulting in two columns: Male and Female.\n",
    "2. **Contract Type**: Apply one-hot encoding, resulting in columns for each contract type: Month-to-month, One year, and Two year.\n",
    "\n",
    "This approach ensures that no ordinal relationship is assumed between the categories.\n"
   ]
  },
  {
   "cell_type": "code",
   "execution_count": null,
   "id": "d8e597eb-d09e-45d4-bfda-f2d3dfa2b9b1",
   "metadata": {},
   "outputs": [],
   "source": []
  }
 ],
 "metadata": {
  "kernelspec": {
   "display_name": "Python 3 (ipykernel)",
   "language": "python",
   "name": "python3"
  },
  "language_info": {
   "codemirror_mode": {
    "name": "ipython",
    "version": 3
   },
   "file_extension": ".py",
   "mimetype": "text/x-python",
   "name": "python",
   "nbconvert_exporter": "python",
   "pygments_lexer": "ipython3",
   "version": "3.11.7"
  }
 },
 "nbformat": 4,
 "nbformat_minor": 5
}
