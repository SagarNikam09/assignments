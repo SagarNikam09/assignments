{
 "cells": [
  {
   "cell_type": "markdown",
   "id": "fa1a8afc",
   "metadata": {},
   "source": [
    "#Q1]\n",
    "\n",
    "Exception is an event that occurs during the execution of a program that disrupts the normal flow of the program. Exceptions can be caused by a variety of factors.\n",
    "\n",
    "When an exception occurs, the program will stop executing and an error message will be displayed. The error message will usually contain information about the type of exception that occurred and the line of code where the exception occurred.\n",
    "\n",
    "A syntax error is a mistake in the syntax of a Python program. This can include missing or incorrect punctuation, keywords, or symbols. Syntax errors will cause the Python interpreter to stop executing the program and display an error message.\n"
   ]
  },
  {
   "cell_type": "markdown",
   "id": "65c855e1",
   "metadata": {},
   "source": [
    "#Q2]\n",
    "\n",
    "When an exception is not handled, the program will stop executing and an error message will be displayed. The error message will usually contain information about the type of exception that occurred and the line of code where the exception occurred."
   ]
  },
  {
   "cell_type": "code",
   "execution_count": 1,
   "id": "57f5829b",
   "metadata": {},
   "outputs": [
    {
     "name": "stdout",
     "output_type": "stream",
     "text": [
      "Division by zero\n",
      "None\n"
     ]
    }
   ],
   "source": [
    "def divide_numbers(x, y):\n",
    "  try:\n",
    "    return x / y\n",
    "  except ZeroDivisionError:\n",
    "    print(\"Division by zero\")\n",
    "\n",
    "print(divide_numbers(1, 0))\n"
   ]
  },
  {
   "cell_type": "markdown",
   "id": "dbf4d5a0",
   "metadata": {},
   "source": [
    "#Q3]\n",
    "\n",
    "The try statement is used to execute a block of code that may potentially raise an exception. The except statement is used to handle the exception that is raised by the try block."
   ]
  },
  {
   "cell_type": "code",
   "execution_count": 2,
   "id": "483ee463",
   "metadata": {},
   "outputs": [
    {
     "name": "stdout",
     "output_type": "stream",
     "text": [
      "Division by zero\n",
      "None\n"
     ]
    }
   ],
   "source": [
    "def divide_numbers(x, y):\n",
    "  try:\n",
    "    return x / y\n",
    "  except ZeroDivisionError:\n",
    "    print(\"Division by zero\")\n",
    "\n",
    "print(divide_numbers(1, 0))"
   ]
  },
  {
   "cell_type": "markdown",
   "id": "bdf93a15",
   "metadata": {},
   "source": [
    "#Q4]"
   ]
  },
  {
   "cell_type": "code",
   "execution_count": 9,
   "id": "4ac3bf88",
   "metadata": {},
   "outputs": [
    {
     "name": "stdout",
     "output_type": "stream",
     "text": [
      "Division by zero\n",
      "None\n"
     ]
    }
   ],
   "source": [
    "#try and else\n",
    "\n",
    "def divide_numbers(x, y):\n",
    "    try:\n",
    "        return x / y\n",
    "    except ZeroDivisionError:\n",
    "        print(\"Division by zero\")\n",
    "    else:\n",
    "        print(\"Division successful\")\n",
    "\n",
    "print(divide_numbers(1, 0))"
   ]
  },
  {
   "cell_type": "code",
   "execution_count": 12,
   "id": "5846c7d1",
   "metadata": {},
   "outputs": [
    {
     "name": "stdout",
     "output_type": "stream",
     "text": [
      "Process completed\n",
      "0.5\n"
     ]
    }
   ],
   "source": [
    "#finally\n",
    "\n",
    "def divide_numbers(x, y):\n",
    "    try:\n",
    "        return x / y\n",
    "    except ZeroDivisionError:\n",
    "        print(\"Division by zero\")\n",
    "    else:\n",
    "        print(\"Division successful\")\n",
    "    finally:\n",
    "        print(\"Process completed\")\n",
    "\n",
    "print(divide_numbers(1, 2))"
   ]
  },
  {
   "cell_type": "code",
   "execution_count": 39,
   "id": "673fc607",
   "metadata": {},
   "outputs": [
    {
     "name": "stdout",
     "output_type": "stream",
     "text": [
      "enter x: 1\n",
      "enter y: 0\n",
      "Zero can't be the divisor\n"
     ]
    }
   ],
   "source": [
    "#raise\n",
    "class ValidMsg(Exception):\n",
    "    def __init__(self, msg):\n",
    "        self.msg = msg\n",
    "\n",
    "def validation(x, y):\n",
    "    if y == 0:\n",
    "        raise ValidMsg(\"Zero can't be the divisor\")\n",
    "\n",
    "x = int(input(\"enter x: \"))\n",
    "y = int(input(\"enter y: \"))\n",
    "\n",
    "try:\n",
    "    validation(x, y)\n",
    "    result = x / y  # This line will only be executed if validation() doesn't raise an exception\n",
    "    print(\"Result:\", result)\n",
    "except ZeroDivisionError:\n",
    "    print(\"Division by zero is not allowed.\")\n",
    "except ValidMsg as e:\n",
    "    print(e)\n"
   ]
  },
  {
   "cell_type": "markdown",
   "id": "69cca929",
   "metadata": {},
   "source": [
    "#Q5]\n",
    "\n",
    "a custom exception is a user-defined exception that can be used to handle specific errors in a program.\n",
    "\n",
    "To provide more information about the error,To prevent errors from propagating,To create a more user-friendly error message.\n"
   ]
  },
  {
   "cell_type": "code",
   "execution_count": 38,
   "id": "edddf2ae",
   "metadata": {},
   "outputs": [
    {
     "name": "stdout",
     "output_type": "stream",
     "text": [
      "enter x: 1\n",
      "enter y: 0\n",
      "Zero can't be the divisor\n"
     ]
    }
   ],
   "source": [
    "class ValidMsg(Exception):\n",
    "    def __init__(self, msg):\n",
    "        self.msg = msg\n",
    "\n",
    "def validation(x, y):\n",
    "    if y == 0:\n",
    "        raise ValidMsg(\"Zero can't be the divisor\")\n",
    "\n",
    "x = int(input(\"enter x: \"))\n",
    "y = int(input(\"enter y: \"))\n",
    "\n",
    "try:\n",
    "    validation(x, y)\n",
    "    result = x / y  # This line will only be executed if validation() doesn't raise an exception\n",
    "    print(\"Result:\", result)\n",
    "except ZeroDivisionError:\n",
    "    print(\"Division by zero is not allowed.\")\n",
    "except ValidMsg as e:\n",
    "    print(e)\n"
   ]
  },
  {
   "cell_type": "markdown",
   "id": "7439b7f7",
   "metadata": {},
   "source": [
    "#Q6]"
   ]
  },
  {
   "cell_type": "code",
   "execution_count": 37,
   "id": "ab139ad3",
   "metadata": {},
   "outputs": [
    {
     "name": "stdout",
     "output_type": "stream",
     "text": [
      "enter x: 1\n",
      "enter y: 2\n",
      "Result: 0.5\n"
     ]
    }
   ],
   "source": [
    "class ValidMsg(Exception):\n",
    "    def __init__(self, msg):\n",
    "        self.msg = msg\n",
    "\n",
    "def validation(x, y):\n",
    "    if y == 0:\n",
    "        raise ValidMsg(\"Zero can't be the divisor\")\n",
    "\n",
    "x = int(input(\"enter x: \"))\n",
    "y = int(input(\"enter y: \"))\n",
    "\n",
    "try:\n",
    "    validation(x, y)\n",
    "    result = x / y  # This line will only be executed if validation() doesn't raise an exception\n",
    "    print(\"Result:\", result)\n",
    "except ZeroDivisionError:\n",
    "    print(\"Division by zero is not allowed.\")\n",
    "except ValidMsg as e:\n",
    "    print(e)\n"
   ]
  },
  {
   "cell_type": "code",
   "execution_count": null,
   "id": "cefeca67",
   "metadata": {},
   "outputs": [],
   "source": []
  }
 ],
 "metadata": {
  "kernelspec": {
   "display_name": "Python 3 (ipykernel)",
   "language": "python",
   "name": "python3"
  },
  "language_info": {
   "codemirror_mode": {
    "name": "ipython",
    "version": 3
   },
   "file_extension": ".py",
   "mimetype": "text/x-python",
   "name": "python",
   "nbconvert_exporter": "python",
   "pygments_lexer": "ipython3",
   "version": "3.9.12"
  }
 },
 "nbformat": 4,
 "nbformat_minor": 5
}
