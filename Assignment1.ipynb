{
 "cells": [
  {
   "attachments": {},
   "cell_type": "markdown",
   "id": "ff5940fd",
   "metadata": {},
   "source": [
    "# Assignment 1"
   ]
  },
  {
   "attachments": {},
   "cell_type": "markdown",
   "id": "de380f9b",
   "metadata": {},
   "source": [
    "#Q1  <br>\n",
    "\tstr = 'String' <br>\n",
    "    list = ['hello',1,1.6]  <br>\n",
    "    float = 1.5  <br>\n",
    "    tuple = ('hello',1,2,3)  <br>"
   ]
  },
  {
   "attachments": {},
   "cell_type": "markdown",
   "id": "aec21319",
   "metadata": {},
   "source": [
    "#Q2 1) str\n",
    "   2) str\n",
    "   3) list\n",
    "   4) int"
   ]
  },
  {
   "attachments": {},
   "cell_type": "markdown",
   "id": "c69bbda4",
   "metadata": {},
   "source": [
    "#Q3  <br>\n",
    "    1) Division operator  <br>\n",
    "        for example,a = 6/2  <br>\n",
    "            a = 3 <br>\n",
    "    2) Modulus operator  <br>\n",
    "         for example , b = 7%2  <br>\n",
    "             b = 1  <br>\n",
    "    3) Floor division  <br>\n",
    "         for example , c = 7//2  <br>\n",
    "             c = 3  <br>\n",
    "    4) Exponential   <br>\n",
    "         for example , d = 4 ** 2  <br>\n",
    "             d = 16  <br>"
   ]
  },
  {
   "cell_type": "code",
   "execution_count": 6,
   "id": "fecf9890",
   "metadata": {},
   "outputs": [
    {
     "name": "stdout",
     "output_type": "stream",
     "text": [
      "<class 'int'>\n",
      "<class 'int'>\n",
      "<class 'int'>\n",
      "<class 'int'>\n",
      "<class 'str'>\n",
      "<class 'float'>\n",
      "<class 'bool'>\n",
      "<class 'float'>\n",
      "<class 'str'>\n",
      "<class 'int'>\n"
     ]
    }
   ],
   "source": [
    "#Q4 \n",
    "list = [1,2,3,7,'abc',2.5,True,5.8,\"hello\",8]\n",
    "\n",
    "for i in list :\n",
    "    print(type(i))"
   ]
  },
  {
   "cell_type": "code",
   "execution_count": 1,
   "id": "9de1b8aa",
   "metadata": {},
   "outputs": [
    {
     "name": "stdout",
     "output_type": "stream",
     "text": [
      "Enter Value for A: 8\n",
      "Enter Value for B: 2\n",
      "3\n"
     ]
    }
   ],
   "source": [
    "#Q5\n",
    "A = input(\"Enter Value for A: \")\n",
    "B = input(\"Enter Value for B: \")\n",
    "count = 0\n",
    "A = int(A)\n",
    "B = int(B)\n",
    "\n",
    "while A%B==0 :\n",
    "        count +=1\n",
    "        A=A//B\n",
    "\n",
    "print(count)"
   ]
  },
  {
   "cell_type": "code",
   "execution_count": 6,
   "id": "846da7a0",
   "metadata": {},
   "outputs": [
    {
     "name": "stdout",
     "output_type": "stream",
     "text": [
      "2 is not divisible\n",
      "65 is not divisible\n",
      "4 is not divisible\n",
      "36 is divisible\n",
      "1 is not divisible\n",
      "47 is not divisible\n",
      "2 is not divisible\n",
      "45 is divisible\n",
      "36 is divisible\n",
      "1 is not divisible\n",
      "9 is divisible\n",
      "59 is not divisible\n",
      "8 is not divisible\n",
      "18 is divisible\n",
      "7 is not divisible\n",
      "99 is divisible\n",
      "63 is divisible\n",
      "45 is divisible\n",
      "10 is not divisible\n",
      "21 is divisible\n",
      "25 is not divisible\n",
      "31 is not divisible\n",
      "30 is divisible\n",
      "33 is divisible\n",
      "108 is divisible\n"
     ]
    }
   ],
   "source": [
    "#Q6\n",
    "list = [2,65,4,36,1,47,2,45,36,1,9,59,8,18,7,99,63,45,10,21,25,31,30,33,108]\n",
    "\n",
    "for i in list:\n",
    "    if i%3==0:\n",
    "        print(f\"{i} is divisible\")\n",
    "    else :\n",
    "        print(f\"{i} is not divisible\")"
   ]
  },
  {
   "attachments": {},
   "cell_type": "markdown",
   "id": "e0f6df0b",
   "metadata": {},
   "source": [
    "#Q7\n",
    "    Immutable objects cannot be changed once they are created, while mutable objects can be modified.  <br>\n",
    "    Immutable data types: Strings , Tuples   <br>\n",
    "    Mutable data types: Lists , Dictionaries"
   ]
  },
  {
   "cell_type": "code",
   "execution_count": 8,
   "id": "38348d06",
   "metadata": {},
   "outputs": [
    {
     "name": "stdout",
     "output_type": "stream",
     "text": [
      "3\n"
     ]
    }
   ],
   "source": [
    "#Tuple exaple\n",
    "numbers = (1,2,3)\n",
    "print(numbers[2])\n",
    "#numbers[1]=4  can't change value , it will show error"
   ]
  },
  {
   "cell_type": "code",
   "execution_count": 7,
   "id": "02d08c72",
   "metadata": {},
   "outputs": [
    {
     "name": "stdout",
     "output_type": "stream",
     "text": [
      "[10, 2, 3, 4]\n"
     ]
    }
   ],
   "source": [
    "#list example\n",
    "numbers = [1, 2, 3]\n",
    "numbers[0] = 10 \n",
    "numbers.append(4)\n",
    "print(numbers)"
   ]
  },
  {
   "cell_type": "code",
   "execution_count": null,
   "id": "b975aa27",
   "metadata": {},
   "outputs": [],
   "source": []
  }
 ],
 "metadata": {
  "kernelspec": {
   "display_name": "Python 3 (ipykernel)",
   "language": "python",
   "name": "python3"
  },
  "language_info": {
   "codemirror_mode": {
    "name": "ipython",
    "version": 3
   },
   "file_extension": ".py",
   "mimetype": "text/x-python",
   "name": "python",
   "nbconvert_exporter": "python",
   "pygments_lexer": "ipython3",
   "version": "3.9.12"
  }
 },
 "nbformat": 4,
 "nbformat_minor": 5
}
