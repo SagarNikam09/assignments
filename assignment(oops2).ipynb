{
 "cells": [
  {
   "cell_type": "markdown",
   "metadata": {},
   "source": [
    "#Q1]\n",
    "\n",
    "In object-oriented programming (OOP), a class is a blueprint for creating objects. It defines the attributes and methods that an object will have. An object is an instance of a class. It is a real-world entity that has the attributes and methods defined by the class."
   ]
  },
  {
   "cell_type": "code",
   "execution_count": 7,
   "metadata": {},
   "outputs": [],
   "source": [
    "class Animal:\n",
    "    def speak(self):\n",
    "        print(\"Animals\")\n",
    "\n",
    "class Dog(Animal):\n",
    "    def speak(self):\n",
    "        print(\"DOG\")\n",
    "\n",
    "class Cat(Animal):\n",
    "    def speak(self):\n",
    "        print(\"CAT\")"
   ]
  },
  {
   "cell_type": "code",
   "execution_count": 8,
   "metadata": {},
   "outputs": [],
   "source": [
    "cat = Cat()\n",
    "dog = Dog()"
   ]
  },
  {
   "cell_type": "code",
   "execution_count": 9,
   "metadata": {},
   "outputs": [
    {
     "name": "stdout",
     "output_type": "stream",
     "text": [
      "CAT\n",
      "DOG\n"
     ]
    }
   ],
   "source": [
    "cat.speak()\n",
    "dog.speak()"
   ]
  },
  {
   "cell_type": "markdown",
   "metadata": {},
   "source": [
    "#Q2]\n",
    "1. **Abstraction:** Abstraction is the process of hiding the implementation details of an object from the user. This allows the user to focus on the essential features of the object without having to worry about how it works.\n",
    "\n",
    "2. **Encapsulation:** Encapsulation is the process of wrapping data and methods into a single unit (object). This allows us to protect the data from unauthorized access and to control how the data is manipulated.\n",
    "\n",
    "3. **Inheritance:** Inheritance is the ability of a class to inherit the attributes and methods of another class. This allows us to reuse code and to create new classes that are based on existing classes.\n",
    "\n",
    "4. **Polymorphism:** Polymorphism is the ability of an object to take on multiple forms. This allows us to use the same code to operate on different types of objects."
   ]
  },
  {
   "cell_type": "markdown",
   "metadata": {},
   "source": [
    "#Q3]\n",
    "\n",
    "The __ init __() function is a special function in Python that is used to initialize the attributes of an object. It is called automatically when an object is created.\n",
    "\n",
    "The __init __() function takes a sequence of arguments, which are the values that will be assigned to the attributes of the object. For example, the following code defines a class called Dog and initializes the name attribute of the object to \"Alpha\":\n",
    "\n"
   ]
  },
  {
   "cell_type": "code",
   "execution_count": 10,
   "metadata": {},
   "outputs": [
    {
     "name": "stdout",
     "output_type": "stream",
     "text": [
      "Alpha\n"
     ]
    }
   ],
   "source": [
    "class Dog:\n",
    "    def __init__(self, name):\n",
    "        self.name = name\n",
    "\n",
    "dog = Dog(\"Alpha\")\n",
    "\n",
    "print(dog.name)\n"
   ]
  },
  {
   "cell_type": "markdown",
   "metadata": {},
   "source": [
    "#Q4]\n",
    "\n",
    "Self is used in OOPs to refer to the current instance of the object. It is a special keyword that is used in the definition of methods.\n",
    "\n",
    "In Python, methods are functions that are defined inside a class. When a method is called, it is passed the current instance of the object as the first argument. This argument is called self."
   ]
  },
  {
   "cell_type": "markdown",
   "metadata": {},
   "source": [
    "#Q5]\n",
    "\n",
    "Inheritance is a powerful concept in object-oriented programming (OOP) that allows a class to inherit the attributes and methods of another class. This means that the derived class will inherit all of the properties and behaviors of the base class, without having to redefine them.\n",
    "\n",
    "5 types of inheritance:\n",
    "\n",
    "**Single inheritance:** A class inherits from only one other class.\n",
    "Example: A Car class inherits from a Vehicle class.\n",
    "\n",
    "**Multiple inheritance:** A class inherits from more than one other class.\n",
    "Example: A Shape class inherits from a Circle class and a Square class.\n",
    "\n",
    "**Hierarchical inheritance:** A class inherits from another class, and then other classes inherit from the first class.\n",
    "Example: A Mammal class inherits from an Animal class, and then a Dog class and a Cat class inherit from the Mammal class.\n",
    "\n",
    "**Multilevel inheritance:** A class inherits from another class, and then that class inherits from another class.\n",
    "Example: A Dog class inherits from a Mammal class, and then the Mammal class inherits from an Animal class.\n",
    "\n",
    "**Hybrid inheritance:** A class inherits from multiple classes in a way that is not hierarchical.\n",
    "Example: A Shape class inherits from a Circle class and a Square class, but the Circle class and the Square class do not inherit from each other."
   ]
  }
 ],
 "metadata": {
  "kernelspec": {
   "display_name": "Python 3",
   "language": "python",
   "name": "python3"
  },
  "language_info": {
   "codemirror_mode": {
    "name": "ipython",
    "version": 3
   },
   "file_extension": ".py",
   "mimetype": "text/x-python",
   "name": "python",
   "nbconvert_exporter": "python",
   "pygments_lexer": "ipython3",
   "version": "3.11.3"
  },
  "orig_nbformat": 4
 },
 "nbformat": 4,
 "nbformat_minor": 2
}
