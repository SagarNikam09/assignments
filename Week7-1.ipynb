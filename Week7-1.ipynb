{
 "cells": [
  {
   "cell_type": "code",
   "execution_count": 2,
   "id": "cba580d5-bfb9-419b-8e2b-28a5a09ecc20",
   "metadata": {},
   "outputs": [
    {
     "data": {
      "text/plain": [
       "'\\nThe names of AWS services used in this project and their uses are:\\n1. **Amazon EC2 (Elastic Compute Cloud)**: Provides scalable virtual servers to run the web scraping scripts and host the web application.\\n2. **Amazon S3 (Simple Storage Service)**: Used to store the scraped data and any other static assets needed for the project.\\n3. **Amazon RDS (Relational Database Service)**: Offers a managed database service to store and query structured data scraped from websites.\\n4. **AWS Lambda**: Enables running code in response to triggers such as new data scraping requests without provisioning or managing servers.\\n'"
      ]
     },
     "execution_count": 2,
     "metadata": {},
     "output_type": "execute_result"
    }
   ],
   "source": [
    "# Q1]\n",
    "\"\"\"\n",
    "Web scraping is the process of automatically extracting data from websites. It is used to gather data from the web in a structured format, which can then be analyzed or used for various purposes.\n",
    "\n",
    "Three areas where web scraping is used to get data are:\n",
    "1. **E-commerce**: For price comparison and market research.\n",
    "2. **Real Estate**: To collect property listings and market trends.\n",
    "3. **Social Media**: To analyze trends, sentiments, and user interactions.\n",
    "\"\"\"\n",
    "\n",
    "# Q2]\n",
    "\"\"\"\n",
    "Different methods used for web scraping include:\n",
    "1. **HTML Parsing**: Using libraries like Beautiful Soup to parse the HTML content of web pages.\n",
    "2. **Web Scraping Frameworks**: Using frameworks like Scrapy to build spiders that navigate and scrape websites.\n",
    "3. **Browser Automation**: Using tools like Selenium to simulate browser interactions and scrape dynamic content.\n",
    "4. **API Calls**: Accessing data through provided APIs, which is a more reliable and ethical way to get data.\n",
    "\"\"\"\n",
    "\n",
    "# Q3]\n",
    "\"\"\"\n",
    "Beautiful Soup is a Python library used for parsing HTML and XML documents. It creates a parse tree from page source code that can be used to extract data in a hierarchical and readable manner.\n",
    "\n",
    "It is used because it simplifies the process of web scraping by providing Pythonic idioms for iterating, searching, and modifying the parse tree.\n",
    "\"\"\"\n",
    "\n",
    "# Q4]\n",
    "\"\"\"\n",
    "Flask is used in this web scraping project because it is a lightweight and flexible web framework for Python. It helps in:\n",
    "1. Creating web applications to serve the scraped data.\n",
    "2. Providing a user interface to trigger and display scraping results.\n",
    "3. Integrating with other services and handling HTTP requests and responses efficiently.\n",
    "\"\"\"\n",
    "\n",
    "# Q5]\n",
    "\"\"\"\n",
    "The names of AWS services used in this project and their uses are:\n",
    "1. **Amazon EC2 (Elastic Compute Cloud)**: Provides scalable virtual servers to run the web scraping scripts and host the web application.\n",
    "2. **Amazon S3 (Simple Storage Service)**: Used to store the scraped data and any other static assets needed for the project.\n",
    "3. **Amazon RDS (Relational Database Service)**: Offers a managed database service to store and query structured data scraped from websites.\n",
    "4. **AWS Lambda**: Enables running code in response to triggers such as new data scraping requests without provisioning or managing servers.\n",
    "\"\"\"\n"
   ]
  },
  {
   "cell_type": "markdown",
   "id": "8d9b53ac-8309-46d6-a3db-1764dade68f7",
   "metadata": {},
   "source": []
  }
 ],
 "metadata": {
  "kernelspec": {
   "display_name": "Python 3 (ipykernel)",
   "language": "python",
   "name": "python3"
  },
  "language_info": {
   "codemirror_mode": {
    "name": "ipython",
    "version": 3
   },
   "file_extension": ".py",
   "mimetype": "text/x-python",
   "name": "python",
   "nbconvert_exporter": "python",
   "pygments_lexer": "ipython3",
   "version": "3.11.7"
  }
 },
 "nbformat": 4,
 "nbformat_minor": 5
}
