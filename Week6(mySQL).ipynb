{
 "cells": [
  {
   "cell_type": "markdown",
   "id": "48512faa",
   "metadata": {},
   "source": [
    "#Q1]\n",
    "\n",
    "A database is a collection of data that is organized so that it can be easily accessed, managed, and updated. Databases are used to store information from a variety of sources, such as customer records, product inventory, and financial transactions.\n",
    "\n",
    "SQL databases (Structured Query Language) are the most common type of database. They use a structured schema to store data, which means that the data is organized in rows and columns. SQL databases are good for storing data that has a fixed schema, such as customer records or product inventory.\n",
    "\n",
    "NoSQL databases (Not Only SQL) are a newer type of database that are not limited to a structured schema. This makes them more flexible than SQL databases and allows them to be used to store data that is more varied, such as social media data or sensor data."
   ]
  },
  {
   "cell_type": "markdown",
   "id": "ffe30fb6",
   "metadata": {},
   "source": [
    "#Q2]\n",
    "\n",
    " DDL stands for Data Definition Language. It is a set of SQL statements that are used to define the structure of a database. DDL statements are used to create, alter, and drop database objects, such as tables, views, and stored procedures.\n",
    " \n",
    "CREATE: This statement is used to create a new database object. For example, the following statement creates a new table called customers.\n",
    "\n",
    "DROP: This statement is used to delete an existing database object. For example, the following statement drops the customers table.\n",
    "\n",
    "ALTER: This statement is used to modify an existing database object. For example, the following statement adds a new column to the customers table.\n",
    "\n",
    "TRUNCATE: This statement is used to delete all rows from a table. For example, the following statement truncates the customers table.\n"
   ]
  },
  {
   "cell_type": "markdown",
   "id": "d973e76f",
   "metadata": {},
   "source": [
    "#Q3]\n",
    "\n",
    "DML stands for Data Manipulation Language. It is a set of SQL statements that are used to manipulate the data in a database. DML statements are used to insert, update, and delete rows from tables.\n",
    "\n",
    "INSERT: This statement is used to insert a new row into a table. For example, the following statement inserts a new row into the customers table.\n",
    "\n",
    "UPDATE: This statement is used to update the data in an existing row. For example, the following statement updates the email address for the customer with the id of 1.\n",
    "\n",
    "DELETE: This statement is used to delete a row from a table. For example, the following statement deletes the row for the customer with the id of 1.\n"
   ]
  },
  {
   "cell_type": "markdown",
   "id": "b92e0e95",
   "metadata": {},
   "source": [
    "#Q4]\n",
    "\n",
    "DQL stands for Data Query Language. It is a set of SQL statements that are used to query data from a database. DQL statements are used to select, filter, and sort data from tables.\n",
    "\n",
    "The SELECT statement is used to select data from a table. \n",
    "\n",
    "for example :\n",
    "\n",
    "SELECT name, email<br>\n",
    "FROM customers;\n"
   ]
  },
  {
   "cell_type": "markdown",
   "id": "1ec4633e",
   "metadata": {},
   "source": [
    "#Q5]\n",
    "\n",
    "A primary key is a column or group of columns in a table that uniquely identifies each row in the table. A foreign key is a column or group of columns in a table that references the primary key of another table.\n",
    "\n",
    "Primary keys are used to ensure that each row in a table is unique. Foreign keys are used to establish a relationship between two tables.\n"
   ]
  },
  {
   "cell_type": "markdown",
   "id": "c9ddf3ec",
   "metadata": {},
   "source": [
    "#Q6]\n",
    "\n",
    "import mysql.connector<br>\n",
    "mydb = mysql.connector.connect(<br>\n",
    "  host=\"localhost\",<br>\n",
    "  user=\"abc\",<br>\n",
    "  password=\"password\"<br>\n",
    ")<br>\n",
    "mycursor = mydb.cursor()<br>\n",
    "\n",
    "\n",
    "The cursor() method is used to create a cursor object. A cursor object is used to execute SQL statements and fetch results. The execute() method is used to execute an SQL statement. The fetchall() method is used to fetch all of the results from an SQL statement."
   ]
  },
  {
   "cell_type": "markdown",
   "id": "1f0ae4e0",
   "metadata": {},
   "source": [
    "#Q7]\n",
    "\n",
    "* FROM: The FROM clause specifies the tables that the query will be executed on.\n",
    "* WHERE: The WHERE clause specifies the rows that the query will return.\n",
    "* GROUP BY: The GROUP BY clause specifies how the rows will be grouped together.\n",
    "* HAVING: The HAVING clause specifies the groups that the query will return.\n",
    "* SELECT: The SELECT clause specifies the columns that the query will return.\n",
    "* ORDER BY: The ORDER BY clause specifies the order in which the rows will be returned.\n",
    "* LIMIT: The LIMIT clause specifies the number of rows that the query will return."
   ]
  },
  {
   "cell_type": "code",
   "execution_count": null,
   "id": "f7af867e",
   "metadata": {},
   "outputs": [],
   "source": []
  }
 ],
 "metadata": {
  "kernelspec": {
   "display_name": "Python 3 (ipykernel)",
   "language": "python",
   "name": "python3"
  },
  "language_info": {
   "codemirror_mode": {
    "name": "ipython",
    "version": 3
   },
   "file_extension": ".py",
   "mimetype": "text/x-python",
   "name": "python",
   "nbconvert_exporter": "python",
   "pygments_lexer": "ipython3",
   "version": "3.9.12"
  }
 },
 "nbformat": 4,
 "nbformat_minor": 5
}
