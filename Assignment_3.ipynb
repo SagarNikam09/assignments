{
 "cells": [
  {
   "cell_type": "markdown",
   "id": "7073af49",
   "metadata": {},
   "source": [
    "#Q1]"
   ]
  },
  {
   "cell_type": "code",
   "execution_count": 9,
   "id": "24d6ee93",
   "metadata": {},
   "outputs": [
    {
     "data": {
      "text/plain": [
       "[1, 3, 5, 7, 9, 11, 13, 15, 17, 19, 21, 23, 25]"
      ]
     },
     "execution_count": 9,
     "metadata": {},
     "output_type": "execute_result"
    }
   ],
   "source": [
    "# def keyword used to create function \n",
    "a =[]\n",
    "def odd(): \n",
    "    for i in range(26) :\n",
    "        if i%2!=0:\n",
    "            a.append(i)\n",
    "    return a\n",
    "odd()"
   ]
  },
  {
   "cell_type": "markdown",
   "id": "d62e6703",
   "metadata": {},
   "source": [
    "#Q2]"
   ]
  },
  {
   "cell_type": "code",
   "execution_count": 10,
   "id": "f538de1e",
   "metadata": {},
   "outputs": [
    {
     "data": {
      "text/plain": [
       "15"
      ]
     },
     "execution_count": 10,
     "metadata": {},
     "output_type": "execute_result"
    }
   ],
   "source": [
    "# *args used when function want many arguments\n",
    "\n",
    "def add(*args):\n",
    "    total = 0 \n",
    "    for i in args:\n",
    "        total += i\n",
    "    return total\n",
    "add(1,2,3,4,5)"
   ]
  },
  {
   "cell_type": "code",
   "execution_count": 13,
   "id": "fa4f3537",
   "metadata": {},
   "outputs": [
    {
     "data": {
      "text/plain": [
       "'sagar:21'"
      ]
     },
     "execution_count": 13,
     "metadata": {},
     "output_type": "execute_result"
    }
   ],
   "source": [
    "# **args used for key pairs \n",
    "\n",
    "def details(**args):\n",
    "    name = args.get(\"name\")\n",
    "    age = args.get(\"age\")\n",
    "    return f\"{name}:{age}\"\n",
    "details(name=\"sagar\",age = 21)"
   ]
  },
  {
   "cell_type": "markdown",
   "id": "5975e6dc",
   "metadata": {},
   "source": [
    "#Q3]"
   ]
  },
  {
   "cell_type": "code",
   "execution_count": 20,
   "id": "dd080044",
   "metadata": {},
   "outputs": [
    {
     "data": {
      "text/plain": [
       "[2, 4, 6, 8, 10, 12, 14, 16, 18, 20]"
      ]
     },
     "execution_count": 20,
     "metadata": {},
     "output_type": "execute_result"
    }
   ],
   "source": [
    "#An iterator in Python is an object that is used to iterate over iterable objects like lists, tuples, dicts, and sets. \n",
    "#The Python iterators object is initialized using the iter() method. It uses the next() method for iteration.\n",
    "\n",
    "list = []\n",
    "def CreateList():\n",
    "    for i in range(1,21):\n",
    "        if i%2==0:\n",
    "            list.append(i)\n",
    "    return list\n",
    "CreateList()"
   ]
  },
  {
   "cell_type": "code",
   "execution_count": 21,
   "id": "d88ac7d1",
   "metadata": {},
   "outputs": [
    {
     "name": "stdout",
     "output_type": "stream",
     "text": [
      "2\n",
      "4\n",
      "6\n",
      "8\n",
      "10\n"
     ]
    }
   ],
   "source": [
    "def gen(l):\n",
    "    for i in l:\n",
    "        yield i\n",
    "l1 = gen(list)\n",
    "\n",
    "for i in range(5):\n",
    "    print(next(l1))"
   ]
  },
  {
   "cell_type": "markdown",
   "id": "48642c98",
   "metadata": {},
   "source": [
    "#Q4]"
   ]
  },
  {
   "cell_type": "code",
   "execution_count": 24,
   "id": "0ab3cbf5",
   "metadata": {},
   "outputs": [
    {
     "name": "stdout",
     "output_type": "stream",
     "text": [
      "0\n",
      "1\n",
      "1\n",
      "2\n",
      "3\n",
      "5\n",
      "8\n",
      "13\n",
      "21\n",
      "34\n"
     ]
    }
   ],
   "source": [
    "#A Generator in Python is a function that returns an iterator using the Yield keyword\n",
    "\n",
    "def fibo():\n",
    "    a,b = 0,1\n",
    "    while True:\n",
    "        yield a\n",
    "        a,b = b,b+a\n",
    "z = fibo()\n",
    "\n",
    "for i in range(10):\n",
    "    print(next(z))"
   ]
  },
  {
   "cell_type": "markdown",
   "id": "bfe232c2",
   "metadata": {},
   "source": [
    "#Q5]"
   ]
  },
  {
   "cell_type": "code",
   "execution_count": 3,
   "id": "6abdfede",
   "metadata": {},
   "outputs": [
    {
     "name": "stdout",
     "output_type": "stream",
     "text": [
      "2\n",
      "3\n",
      "5\n",
      "7\n",
      "11\n",
      "13\n",
      "17\n",
      "19\n",
      "23\n",
      "29\n",
      "31\n",
      "37\n",
      "41\n",
      "43\n",
      "47\n",
      "53\n",
      "59\n",
      "61\n",
      "67\n",
      "71\n"
     ]
    }
   ],
   "source": [
    "def prime():\n",
    "    for r in range(1000):\n",
    "        count=0\n",
    "        i =1\n",
    "        while i<=r :\n",
    "            if r%i==0:\n",
    "                count += 1\n",
    "            i += 1   \n",
    "        if count == 2:\n",
    "            yield r\n",
    "        \n",
    "p = prime()  \n",
    "\n",
    "for i in range(20):\n",
    "    print(next(p))"
   ]
  },
  {
   "cell_type": "markdown",
   "id": "3b770ed9",
   "metadata": {},
   "source": [
    "#Q6]"
   ]
  },
  {
   "cell_type": "code",
   "execution_count": 9,
   "id": "20ee3711",
   "metadata": {},
   "outputs": [
    {
     "data": {
      "text/plain": [
       "[0, 1, 1, 2, 3, 5, 8, 13, 21, 34]"
      ]
     },
     "execution_count": 9,
     "metadata": {},
     "output_type": "execute_result"
    }
   ],
   "source": [
    "fib = []\n",
    "def fibo():\n",
    "    a,b = 0,1\n",
    "    while a<35:\n",
    "        fib.append(a)\n",
    "        a,b = b,b+a\n",
    "    return fib\n",
    "fibo()\n",
    "\n"
   ]
  },
  {
   "cell_type": "markdown",
   "id": "43a6edb2",
   "metadata": {},
   "source": [
    "#Q7]"
   ]
  },
  {
   "cell_type": "code",
   "execution_count": 33,
   "id": "a7e1e8bc",
   "metadata": {},
   "outputs": [
    {
     "data": {
      "text/plain": [
       "['p', 'w', 's', 'k', 'i', 'l', 'l', 's']"
      ]
     },
     "execution_count": 33,
     "metadata": {},
     "output_type": "execute_result"
    }
   ],
   "source": [
    "sp = \"pwskills\"\n",
    "l=[]\n",
    "def list():\n",
    "    for i in sp:\n",
    "        l.append(i)\n",
    "    return l\n",
    "list()"
   ]
  },
  {
   "cell_type": "markdown",
   "id": "907af869",
   "metadata": {},
   "source": [
    "#Q8]"
   ]
  },
  {
   "cell_type": "code",
   "execution_count": 39,
   "id": "e3aecf67",
   "metadata": {},
   "outputs": [
    {
     "name": "stdout",
     "output_type": "stream",
     "text": [
      "Enter the number : 12321\n",
      "Palindrome\n"
     ]
    }
   ],
   "source": [
    "num = int(input(\"Enter the number : \"))\n",
    "rev = 0 \n",
    "temp = num\n",
    "\n",
    "while num>0:\n",
    "    rem= num%10\n",
    "    rev = rev*10 + rem\n",
    "    num = num//10\n",
    "\n",
    "if temp == rev:\n",
    "    print(\"Palindrome\")\n",
    "else :\n",
    "    print(\"Not Palindrome\")"
   ]
  },
  {
   "cell_type": "code",
   "execution_count": 22,
   "id": "71696926",
   "metadata": {},
   "outputs": [
    {
     "name": "stdout",
     "output_type": "stream",
     "text": [
      "Enter the number : 12321\n",
      "It is Palindrome\n"
     ]
    }
   ],
   "source": [
    "# another method to solve , by treating as string\n",
    "num = input(\"Enter the number : \")\n",
    "i=0\n",
    "count = 0\n",
    "n = len(num)\n",
    "while i < n :\n",
    "    if num[i]!=num[n-i-1]:\n",
    "        count += 1\n",
    "    i +=1\n",
    "    \n",
    "    \n",
    "if count==0:\n",
    "    print(\"It is Palindrome\")\n",
    "else:\n",
    "    print(\"Not Palindrome\")"
   ]
  },
  {
   "cell_type": "markdown",
   "id": "1f5a7f5f",
   "metadata": {},
   "source": [
    "#Q9]"
   ]
  },
  {
   "cell_type": "code",
   "execution_count": 40,
   "id": "cb73d792",
   "metadata": {},
   "outputs": [
    {
     "name": "stdout",
     "output_type": "stream",
     "text": [
      "[1, 3, 5, 7, 9, 11, 13, 15, 17, 19, 21, 23, 25, 27, 29, 31, 33, 35, 37, 39, 41, 43, 45, 47, 49, 51, 53, 55, 57, 59, 61, 63, 65, 67, 69, 71, 73, 75, 77, 79, 81, 83, 85, 87, 89, 91, 93, 95, 97, 99]\n"
     ]
    }
   ],
   "source": [
    "list =[]\n",
    "for i in range(100):\n",
    "    if i%2!=0:\n",
    "        list.append(i)\n",
    "print(list)"
   ]
  },
  {
   "cell_type": "code",
   "execution_count": null,
   "id": "7bedf180",
   "metadata": {},
   "outputs": [],
   "source": []
  }
 ],
 "metadata": {
  "kernelspec": {
   "display_name": "Python 3 (ipykernel)",
   "language": "python",
   "name": "python3"
  },
  "language_info": {
   "codemirror_mode": {
    "name": "ipython",
    "version": 3
   },
   "file_extension": ".py",
   "mimetype": "text/x-python",
   "name": "python",
   "nbconvert_exporter": "python",
   "pygments_lexer": "ipython3",
   "version": "3.9.12"
  }
 },
 "nbformat": 4,
 "nbformat_minor": 5
}
