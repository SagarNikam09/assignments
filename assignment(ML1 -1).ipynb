{
 "cells": [
  {
   "cell_type": "markdown",
   "id": "7f9f19a0",
   "metadata": {},
   "source": [
    "#Q1]\n",
    "\n",
    "**Artificial Intelligence** (AI) is a broad term that refers to the ability of machines to perform tasks that are typically associated with human intelligence, such as learning, reasoning, and problem-solving. AI is a rapidly growing field with many potential applications, including healthcare, transportation, and finance.\n",
    "\n",
    "**Machine Learning (ML)** is a subset of AI that focuses on the development of algorithms that can learn from data and improve their performance over time. ML algorithms are trained on large datasets of labeled data, and they use this data to learn how to identify patterns and make predictions.\n",
    "\n",
    "**Deep Learning (DL)** is a subset of ML that uses artificial neural networks to learn from data. Neural networks are inspired by the human brain, and they are able to learn complex patterns from data that would be difficult or impossible for traditional ML algorithms to learn.\n",
    "\n",
    "Here are some examples of AI, ML, and DL:\n",
    "\n",
    "AI: A self-driving car that uses sensors to navigate the road and avoid obstacles.\n",
    "ML: A spam filter that learns to identify spam emails based on a training dataset of labeled emails.\n",
    "DL: A facial recognition system that learns to identify faces in images based on a training dataset of labeled images.\n"
   ]
  },
  {
   "cell_type": "markdown",
   "id": "91ad1783",
   "metadata": {},
   "source": [
    "#Q2]\n",
    "\n",
    "Supervised learning is a type of machine learning in which the algorithm is trained on labeled data. This means that the data has already been classified, so the algorithm knows what the correct output should be for each input. Supervised learning is often used for tasks such as classification and regression.\n",
    "\n",
    "Examples : Spam filtering, Fraud detection , Image recognition , Speech recognition ."
   ]
  },
  {
   "cell_type": "markdown",
   "id": "5cbfa605",
   "metadata": {},
   "source": [
    "#Q3]\n",
    "\n",
    "Unsupervised learning is a type of machine learning in which the algorithm is trained on unlabeled data. This means that the data has not been classified, so the algorithm must learn to identify patterns in the data without any guidance. Unsupervised learning is often used for tasks such as clustering and dimensionality reduction.\n",
    "\n",
    "Examples : Clustering , Dimensionality reduction , Anomaly detection ."
   ]
  },
  {
   "cell_type": "markdown",
   "id": "0d506914",
   "metadata": {},
   "source": [
    "#Q4]\n",
    "\n",
    "**Artificial intelligence (AI)** is a broad term that refers to the ability of machines to perform tasks that are typically associated with human intelligence, such as learning, reasoning, and problem-solving.\n",
    "\n",
    "**Machine learning (ML)** is a subset of AI that focuses on the development of algorithms that can learn from data and improve their performance over time. ML algorithms are trained on large datasets of labeled data, and they use this data to learn how to identify patterns and make predictions.\n",
    "\n",
    "**Deep learning (DL)** is a subset of ML that uses artificial neural networks to learn from data. Neural networks are inspired by the human brain, and they are able to learn complex patterns from data that would be difficult or impossible for traditional ML algorithms to learn.\n",
    "\n",
    "**Data science (DS)** is a field that combines computer science, statistics, and mathematics to extract knowledge from data. DS professionals use a variety of tools and techniques to collect, clean, analyze, and visualize data."
   ]
  },
  {
   "cell_type": "markdown",
   "id": "ae1946ce",
   "metadata": {},
   "source": [
    "#Q5]\n",
    "\n",
    "**Supervised learning** is a type of machine learning in which the algorithm is trained on labeled data. This means that the data has already been classified, so the algorithm knows what the correct output should be for each input. Supervised learning is often used for tasks such as classification and regression.\n",
    "\n",
    "**Unsupervised learning** is a type of machine learning in which the algorithm is trained on unlabeled data. This means that the data has not been classified, so the algorithm must learn to identify patterns in the data without any guidance. Unsupervised learning is often used for tasks such as clustering and dimensionality reduction.\n",
    "\n",
    "**Semi-supervised learning** is a type of machine learning that combines supervised and unsupervised learning. It uses a small amount of labeled data and a large amount of unlabeled data to train the algorithm. Semi-supervised learning can be useful when there is not enough labeled data available to train a supervised learning algorithm, but there is a large amount of unlabeled data that can be used to improve the performance of the algorithm."
   ]
  },
  {
   "cell_type": "markdown",
   "id": "bba681d0",
   "metadata": {},
   "source": [
    "#Q6]\n",
    "\n",
    "Train, test, and validation split is a technique used in machine learning to evaluate the performance of a model. The data is split into three sets: the training set, the test set, and the validation set.\n",
    "\n",
    "**Training set** is used to train the model. The model learns to make predictions on the training set, and the performance of the model is evaluated on the test set.\n",
    "\n",
    "**Test set** is used to evaluate the performance of the model. The model is not trained on the test set, so it is a good way to measure how well the model will generalize to new data.\n",
    "\n",
    "**Validation set** is used to tune the hyperparameters of the model. The hyperparameters are the settings of the model that control how it learns. The validation set is used to find the hyperparameters that give the best performance on the test set."
   ]
  },
  {
   "cell_type": "markdown",
   "id": "962de642",
   "metadata": {},
   "source": [
    "#Q7]\n",
    "\n",
    "Outlier detection is a type of anomaly detection that identifies data points that are significantly different from the rest of the data. Unsupervised learning algorithms can be used to identify outliers by looking for data points that fall outside of a certain range or that have a different distribution than the rest of the data.<br>\n",
    "Density-based anomaly detection algorithms identify anomalies by looking for data points that are not in the densest areas of the data. These algorithms can be used to identify anomalies in both continuous and categorical data."
   ]
  },
  {
   "cell_type": "markdown",
   "id": "b9e66890",
   "metadata": {},
   "source": [
    "#Q8]\n",
    "\n",
    "Some commonly used supervised learning algorithms and unsupervised learning algorithms:\n",
    "\n",
    "**Supervised learning algorithms**\n",
    "\n",
    "1) **Linear regression:** Linear regression is a simple algorithm that can be used to predict a continuous value. It is often used for tasks such as predicting sales, predicting customer churn, and predicting the price of a house.\n",
    "2) **Logistic regression:** Logistic regression is a more powerful algorithm that can be used to predict a binary value. It is often used for tasks such as spam filtering, fraud detection, and medical diagnosis.\n",
    "3) **Decision trees:** Decision trees are a popular algorithm for classification and regression tasks. They are easy to understand and interpret, and they can be used to handle both continuous and categorical data.\n",
    "4) **Support vector machines (SVMs):** SVMs are a powerful algorithm for classification and regression tasks. They are particularly good at handling small datasets and noisy data.\n",
    "5) **Random forests:** Random forests are an ensemble learning algorithm that combines multiple decision trees. They are often used for classification and regression tasks, and they can be very accurate.\n",
    "\n",
    "**Unsupervised learning algorithms**\n",
    "\n",
    "1) **K-means clustering:** K-means clustering is a simple algorithm that can be used to group similar data points together. It is often used for tasks such as market segmentation and customer clustering.\n",
    "2) **Hierarchical clustering:** Hierarchical clustering is a more complex algorithm that can be used to group similar data points together. It is often used for tasks such as gene expression analysis and social network analysis.\n",
    "3) **Principal component analysis (PCA):** PCA is a dimensionality reduction algorithm that can be used to reduce the number of features in a dataset. This can be useful for tasks such as image compression and feature selection.\n",
    "4) **Apriori algorithm:** Apriori algorithm is an algorithm for association rule learning. It can be used to find rules that describe how different items are associated with each other. This can be useful for tasks such as market basket analysis and customer behavior analysis.\n",
    "5) **Gaussian mixture models:** Gaussian mixture models are a probabilistic model that can be used to cluster data. They are often used for tasks such as image segmentation and text analysis.\n"
   ]
  },
  {
   "cell_type": "code",
   "execution_count": null,
   "id": "ec37b03e",
   "metadata": {},
   "outputs": [],
   "source": []
  }
 ],
 "metadata": {
  "kernelspec": {
   "display_name": "Python 3 (ipykernel)",
   "language": "python",
   "name": "python3"
  },
  "language_info": {
   "codemirror_mode": {
    "name": "ipython",
    "version": 3
   },
   "file_extension": ".py",
   "mimetype": "text/x-python",
   "name": "python",
   "nbconvert_exporter": "python",
   "pygments_lexer": "ipython3",
   "version": "3.9.12"
  }
 },
 "nbformat": 4,
 "nbformat_minor": 5
}
