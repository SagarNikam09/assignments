{
 "cells": [
  {
   "cell_type": "markdown",
   "id": "728b2061-6e46-49c6-8bda-93794033b75d",
   "metadata": {},
   "source": [
    "### Q1\n",
    "\n",
    "**Ordinal Encoding vs. Label Encoding**:\n",
    "- **Ordinal Encoding**: Assigns numerical values to categories with an implied order. For example, for \"Size\" (small, medium, large), encode as 1, 2, 3.\n",
    "- **Label Encoding**: Assigns numerical values to categories without any order. For example, \"Color\" (red, green, blue) as 1, 2, 3.\n",
    "- **Example**: Choose ordinal encoding for education levels (High School, Bachelor’s, Master’s) due to the inherent order. Use label encoding for non-ordinal categories like color.\n",
    "\n",
    "### Q2\n",
    "\n",
    "**Target Guided Ordinal Encoding**: Assigns ordinal values based on the mean of the target variable for each category. For example, in a churn prediction model, if customers with \"Contract Type\" have different churn rates, the categories can be encoded based on these rates. \n",
    "\n",
    "### Q3\n",
    "\n",
    "**Covariance**: Measures the degree to which two variables change together. It's important for understanding relationships between variables. Calculated as:\n",
    "\\[ \\text{Cov}(X, Y) = \\frac{1}{n-1} \\sum (X_i - \\bar{X})(Y_i - \\bar{Y}) \\]\n",
    "where \\(X_i\\) and \\(Y_i\\) are individual data points, and \\(\\bar{X}\\) and \\(\\bar{Y}\\) are the means of \\(X\\) and \\(Y\\).\n",
    "\n"
   ]
  },
  {
   "cell_type": "code",
   "execution_count": 5,
   "id": "ad156990-e0bb-4340-8331-3b8a42ca3f3c",
   "metadata": {},
   "outputs": [
    {
     "name": "stdout",
     "output_type": "stream",
     "text": [
      "   Color  Size  Material\n",
      "0      2     2         2\n",
      "1      1     1         0\n",
      "2      0     0         1\n"
     ]
    }
   ],
   "source": [
    "### Q4\n",
    "import pandas as pd\n",
    "from sklearn.preprocessing import LabelEncoder\n",
    "\n",
    "data = {'Color': ['red', 'green', 'blue'], 'Size': ['small', 'medium', 'large'], 'Material': ['wood', 'metal', 'plastic']}\n",
    "df = pd.DataFrame(data)\n",
    "\n",
    "le = LabelEncoder()\n",
    "df['Color'] = le.fit_transform(df['Color'])\n",
    "df['Size'] = le.fit_transform(df['Size'])\n",
    "df['Material'] = le.fit_transform(df['Material'])\n",
    "\n",
    "print(df)\n"
   ]
  },
  {
   "cell_type": "code",
   "execution_count": 7,
   "id": "a3addbf1-7ad5-4459-91be-6d03c8d5af42",
   "metadata": {},
   "outputs": [
    {
     "name": "stdout",
     "output_type": "stream",
     "text": [
      "[[4.16666667e+01 8.33333333e+04 1.66666667e+01]\n",
      " [8.33333333e+04 1.66666667e+08 3.33333333e+04]\n",
      " [1.66666667e+01 3.33333333e+04 6.66666667e+00]]\n"
     ]
    }
   ],
   "source": [
    "### Q5\n",
    "import numpy as np\n",
    "\n",
    "data = np.array([[25, 50000, 16], [30, 60000, 18], [35, 70000, 20], [40, 80000, 22]])\n",
    "cov_matrix = np.cov(data.T)\n",
    "\n",
    "print(cov_matrix)\n"
   ]
  },
  {
   "cell_type": "markdown",
   "id": "b030e22b-8c04-437b-bd52-3251136cf36c",
   "metadata": {},
   "source": [
    "### Q6\n",
    "Gender: One-hot encoding, creating binary columns for Male and Female.\n",
    "Education Level: Ordinal encoding, representing the inherent order (1: High School, 2: Bachelor’s, 3: Master’s, 4: PhD).\n",
    "Employment Status: One-hot encoding, creating binary columns for each status (Unemployed, Part-Time, Full-Time)."
   ]
  },
  {
   "cell_type": "code",
   "execution_count": 10,
   "id": "87505bb2-a2fc-441c-831e-6eb94389d37f",
   "metadata": {},
   "outputs": [
    {
     "name": "stdout",
     "output_type": "stream",
     "text": [
      "18.75\n"
     ]
    }
   ],
   "source": [
    "### Q7\n",
    "temperature = [30, 22, 25, 28, 31]\n",
    "humidity = [70, 60, 75, 65, 80]\n",
    "cov_temp_humidity = np.cov(temperature, humidity)[0, 1]\n",
    "\n",
    "print(cov_temp_humidity)\n"
   ]
  },
  {
   "cell_type": "code",
   "execution_count": null,
   "id": "22a13d83-2877-4c74-898a-1f536ab6fc1c",
   "metadata": {},
   "outputs": [],
   "source": []
  }
 ],
 "metadata": {
  "kernelspec": {
   "display_name": "Python 3 (ipykernel)",
   "language": "python",
   "name": "python3"
  },
  "language_info": {
   "codemirror_mode": {
    "name": "ipython",
    "version": 3
   },
   "file_extension": ".py",
   "mimetype": "text/x-python",
   "name": "python",
   "nbconvert_exporter": "python",
   "pygments_lexer": "ipython3",
   "version": "3.11.7"
  }
 },
 "nbformat": 4,
 "nbformat_minor": 5
}
